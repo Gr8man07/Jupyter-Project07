{
 "cells": [
  {
   "cell_type": "markdown",
   "id": "e335e303-98fa-454e-89cb-acb66edfc638",
   "metadata": {},
   "source": [
    "# Data Preprocessing, Customer Clustering using K-Means, and Association Rule Mining - Online Retail Dataset from the UCI Machine Learning Repository"
   ]
  },
  {
   "cell_type": "markdown",
   "id": "78f4daad-a89c-47c0-9f69-a16366aa3660",
   "metadata": {},
   "source": [
    "### Step 1: Load the Dataset"
   ]
  },
  {
   "cell_type": "code",
   "execution_count": 5,
   "id": "afa69909-9420-4fe5-a500-da41df233f72",
   "metadata": {},
   "outputs": [
    {
     "data": {
      "text/html": [
       "<div>\n",
       "<style scoped>\n",
       "    .dataframe tbody tr th:only-of-type {\n",
       "        vertical-align: middle;\n",
       "    }\n",
       "\n",
       "    .dataframe tbody tr th {\n",
       "        vertical-align: top;\n",
       "    }\n",
       "\n",
       "    .dataframe thead th {\n",
       "        text-align: right;\n",
       "    }\n",
       "</style>\n",
       "<table border=\"1\" class=\"dataframe\">\n",
       "  <thead>\n",
       "    <tr style=\"text-align: right;\">\n",
       "      <th></th>\n",
       "      <th>InvoiceNo</th>\n",
       "      <th>StockCode</th>\n",
       "      <th>Description</th>\n",
       "      <th>Quantity</th>\n",
       "      <th>InvoiceDate</th>\n",
       "      <th>UnitPrice</th>\n",
       "      <th>CustomerID</th>\n",
       "      <th>Country</th>\n",
       "    </tr>\n",
       "  </thead>\n",
       "  <tbody>\n",
       "    <tr>\n",
       "      <th>0</th>\n",
       "      <td>536365</td>\n",
       "      <td>85123A</td>\n",
       "      <td>WHITE HANGING HEART T-LIGHT HOLDER</td>\n",
       "      <td>6</td>\n",
       "      <td>2010-12-01 08:26:00</td>\n",
       "      <td>2.55</td>\n",
       "      <td>17850.0</td>\n",
       "      <td>United Kingdom</td>\n",
       "    </tr>\n",
       "    <tr>\n",
       "      <th>1</th>\n",
       "      <td>536365</td>\n",
       "      <td>71053</td>\n",
       "      <td>WHITE METAL LANTERN</td>\n",
       "      <td>6</td>\n",
       "      <td>2010-12-01 08:26:00</td>\n",
       "      <td>3.39</td>\n",
       "      <td>17850.0</td>\n",
       "      <td>United Kingdom</td>\n",
       "    </tr>\n",
       "    <tr>\n",
       "      <th>2</th>\n",
       "      <td>536365</td>\n",
       "      <td>84406B</td>\n",
       "      <td>CREAM CUPID HEARTS COAT HANGER</td>\n",
       "      <td>8</td>\n",
       "      <td>2010-12-01 08:26:00</td>\n",
       "      <td>2.75</td>\n",
       "      <td>17850.0</td>\n",
       "      <td>United Kingdom</td>\n",
       "    </tr>\n",
       "    <tr>\n",
       "      <th>3</th>\n",
       "      <td>536365</td>\n",
       "      <td>84029G</td>\n",
       "      <td>KNITTED UNION FLAG HOT WATER BOTTLE</td>\n",
       "      <td>6</td>\n",
       "      <td>2010-12-01 08:26:00</td>\n",
       "      <td>3.39</td>\n",
       "      <td>17850.0</td>\n",
       "      <td>United Kingdom</td>\n",
       "    </tr>\n",
       "    <tr>\n",
       "      <th>4</th>\n",
       "      <td>536365</td>\n",
       "      <td>84029E</td>\n",
       "      <td>RED WOOLLY HOTTIE WHITE HEART.</td>\n",
       "      <td>6</td>\n",
       "      <td>2010-12-01 08:26:00</td>\n",
       "      <td>3.39</td>\n",
       "      <td>17850.0</td>\n",
       "      <td>United Kingdom</td>\n",
       "    </tr>\n",
       "  </tbody>\n",
       "</table>\n",
       "</div>"
      ],
      "text/plain": [
       "  InvoiceNo StockCode                          Description  Quantity  \\\n",
       "0    536365    85123A   WHITE HANGING HEART T-LIGHT HOLDER         6   \n",
       "1    536365     71053                  WHITE METAL LANTERN         6   \n",
       "2    536365    84406B       CREAM CUPID HEARTS COAT HANGER         8   \n",
       "3    536365    84029G  KNITTED UNION FLAG HOT WATER BOTTLE         6   \n",
       "4    536365    84029E       RED WOOLLY HOTTIE WHITE HEART.         6   \n",
       "\n",
       "          InvoiceDate  UnitPrice  CustomerID         Country  \n",
       "0 2010-12-01 08:26:00       2.55     17850.0  United Kingdom  \n",
       "1 2010-12-01 08:26:00       3.39     17850.0  United Kingdom  \n",
       "2 2010-12-01 08:26:00       2.75     17850.0  United Kingdom  \n",
       "3 2010-12-01 08:26:00       3.39     17850.0  United Kingdom  \n",
       "4 2010-12-01 08:26:00       3.39     17850.0  United Kingdom  "
      ]
     },
     "execution_count": 5,
     "metadata": {},
     "output_type": "execute_result"
    }
   ],
   "source": [
    "import pandas as pd\n",
    "\n",
    "# Load the dataset\n",
    "df = pd.read_excel(\"Online Retail.xlsx\")\n",
    "\n",
    "# Display the first few rows\n",
    "df.head()"
   ]
  },
  {
   "cell_type": "code",
   "execution_count": 7,
   "id": "2d650fc6-46f0-4f3b-b2ff-2a04a1683079",
   "metadata": {},
   "outputs": [
    {
     "name": "stdout",
     "output_type": "stream",
     "text": [
      "<class 'pandas.core.frame.DataFrame'>\n",
      "RangeIndex: 541909 entries, 0 to 541908\n",
      "Data columns (total 8 columns):\n",
      " #   Column       Non-Null Count   Dtype         \n",
      "---  ------       --------------   -----         \n",
      " 0   InvoiceNo    541909 non-null  object        \n",
      " 1   StockCode    541909 non-null  object        \n",
      " 2   Description  540455 non-null  object        \n",
      " 3   Quantity     541909 non-null  int64         \n",
      " 4   InvoiceDate  541909 non-null  datetime64[ns]\n",
      " 5   UnitPrice    541909 non-null  float64       \n",
      " 6   CustomerID   406829 non-null  float64       \n",
      " 7   Country      541909 non-null  object        \n",
      "dtypes: datetime64[ns](1), float64(2), int64(1), object(4)\n",
      "memory usage: 33.1+ MB\n"
     ]
    }
   ],
   "source": [
    "df.info()"
   ]
  },
  {
   "cell_type": "code",
   "execution_count": 9,
   "id": "5ee3f079-c472-4698-a7cf-37accef0729a",
   "metadata": {},
   "outputs": [
    {
     "data": {
      "text/html": [
       "<div>\n",
       "<style scoped>\n",
       "    .dataframe tbody tr th:only-of-type {\n",
       "        vertical-align: middle;\n",
       "    }\n",
       "\n",
       "    .dataframe tbody tr th {\n",
       "        vertical-align: top;\n",
       "    }\n",
       "\n",
       "    .dataframe thead th {\n",
       "        text-align: right;\n",
       "    }\n",
       "</style>\n",
       "<table border=\"1\" class=\"dataframe\">\n",
       "  <thead>\n",
       "    <tr style=\"text-align: right;\">\n",
       "      <th></th>\n",
       "      <th>Quantity</th>\n",
       "      <th>InvoiceDate</th>\n",
       "      <th>UnitPrice</th>\n",
       "      <th>CustomerID</th>\n",
       "    </tr>\n",
       "  </thead>\n",
       "  <tbody>\n",
       "    <tr>\n",
       "      <th>count</th>\n",
       "      <td>541909.000000</td>\n",
       "      <td>541909</td>\n",
       "      <td>541909.000000</td>\n",
       "      <td>406829.000000</td>\n",
       "    </tr>\n",
       "    <tr>\n",
       "      <th>mean</th>\n",
       "      <td>9.552250</td>\n",
       "      <td>2011-07-04 13:34:57.156386048</td>\n",
       "      <td>4.611114</td>\n",
       "      <td>15287.690570</td>\n",
       "    </tr>\n",
       "    <tr>\n",
       "      <th>min</th>\n",
       "      <td>-80995.000000</td>\n",
       "      <td>2010-12-01 08:26:00</td>\n",
       "      <td>-11062.060000</td>\n",
       "      <td>12346.000000</td>\n",
       "    </tr>\n",
       "    <tr>\n",
       "      <th>25%</th>\n",
       "      <td>1.000000</td>\n",
       "      <td>2011-03-28 11:34:00</td>\n",
       "      <td>1.250000</td>\n",
       "      <td>13953.000000</td>\n",
       "    </tr>\n",
       "    <tr>\n",
       "      <th>50%</th>\n",
       "      <td>3.000000</td>\n",
       "      <td>2011-07-19 17:17:00</td>\n",
       "      <td>2.080000</td>\n",
       "      <td>15152.000000</td>\n",
       "    </tr>\n",
       "    <tr>\n",
       "      <th>75%</th>\n",
       "      <td>10.000000</td>\n",
       "      <td>2011-10-19 11:27:00</td>\n",
       "      <td>4.130000</td>\n",
       "      <td>16791.000000</td>\n",
       "    </tr>\n",
       "    <tr>\n",
       "      <th>max</th>\n",
       "      <td>80995.000000</td>\n",
       "      <td>2011-12-09 12:50:00</td>\n",
       "      <td>38970.000000</td>\n",
       "      <td>18287.000000</td>\n",
       "    </tr>\n",
       "    <tr>\n",
       "      <th>std</th>\n",
       "      <td>218.081158</td>\n",
       "      <td>NaN</td>\n",
       "      <td>96.759853</td>\n",
       "      <td>1713.600303</td>\n",
       "    </tr>\n",
       "  </tbody>\n",
       "</table>\n",
       "</div>"
      ],
      "text/plain": [
       "            Quantity                    InvoiceDate      UnitPrice  \\\n",
       "count  541909.000000                         541909  541909.000000   \n",
       "mean        9.552250  2011-07-04 13:34:57.156386048       4.611114   \n",
       "min    -80995.000000            2010-12-01 08:26:00  -11062.060000   \n",
       "25%         1.000000            2011-03-28 11:34:00       1.250000   \n",
       "50%         3.000000            2011-07-19 17:17:00       2.080000   \n",
       "75%        10.000000            2011-10-19 11:27:00       4.130000   \n",
       "max     80995.000000            2011-12-09 12:50:00   38970.000000   \n",
       "std       218.081158                            NaN      96.759853   \n",
       "\n",
       "          CustomerID  \n",
       "count  406829.000000  \n",
       "mean    15287.690570  \n",
       "min     12346.000000  \n",
       "25%     13953.000000  \n",
       "50%     15152.000000  \n",
       "75%     16791.000000  \n",
       "max     18287.000000  \n",
       "std      1713.600303  "
      ]
     },
     "execution_count": 9,
     "metadata": {},
     "output_type": "execute_result"
    }
   ],
   "source": [
    "df.describe()"
   ]
  },
  {
   "cell_type": "markdown",
   "id": "d72fd4f8-aeed-465c-aebf-2d22d45ac96b",
   "metadata": {},
   "source": [
    "### Step 2: Handle Missing Values"
   ]
  },
  {
   "cell_type": "markdown",
   "id": "dcce0641-885e-4bbd-9dc9-556bfd39642b",
   "metadata": {},
   "source": [
    "#### 2. Missing value handling\n",
    "*Check if there are missing values using isnull().sum()\n",
    "*Also checking zero values in numerical columns. I consider 0 value as a missing values."
   ]
  },
  {
   "cell_type": "code",
   "execution_count": 11,
   "id": "81b444af-4697-4764-b101-224c931094e5",
   "metadata": {},
   "outputs": [
    {
     "data": {
      "text/html": [
       "<div>\n",
       "<style scoped>\n",
       "    .dataframe tbody tr th:only-of-type {\n",
       "        vertical-align: middle;\n",
       "    }\n",
       "\n",
       "    .dataframe tbody tr th {\n",
       "        vertical-align: top;\n",
       "    }\n",
       "\n",
       "    .dataframe thead th {\n",
       "        text-align: right;\n",
       "    }\n",
       "</style>\n",
       "<table border=\"1\" class=\"dataframe\">\n",
       "  <thead>\n",
       "    <tr style=\"text-align: right;\">\n",
       "      <th></th>\n",
       "      <th>Missing Count</th>\n",
       "      <th>Missing Percentage</th>\n",
       "    </tr>\n",
       "  </thead>\n",
       "  <tbody>\n",
       "    <tr>\n",
       "      <th>InvoiceNo</th>\n",
       "      <td>0</td>\n",
       "      <td>0.00%</td>\n",
       "    </tr>\n",
       "    <tr>\n",
       "      <th>StockCode</th>\n",
       "      <td>0</td>\n",
       "      <td>0.00%</td>\n",
       "    </tr>\n",
       "    <tr>\n",
       "      <th>Description</th>\n",
       "      <td>1454</td>\n",
       "      <td>0.27%</td>\n",
       "    </tr>\n",
       "    <tr>\n",
       "      <th>Quantity</th>\n",
       "      <td>0</td>\n",
       "      <td>0.00%</td>\n",
       "    </tr>\n",
       "    <tr>\n",
       "      <th>InvoiceDate</th>\n",
       "      <td>0</td>\n",
       "      <td>0.00%</td>\n",
       "    </tr>\n",
       "    <tr>\n",
       "      <th>UnitPrice</th>\n",
       "      <td>0</td>\n",
       "      <td>0.00%</td>\n",
       "    </tr>\n",
       "    <tr>\n",
       "      <th>CustomerID</th>\n",
       "      <td>135080</td>\n",
       "      <td>24.93%</td>\n",
       "    </tr>\n",
       "    <tr>\n",
       "      <th>Country</th>\n",
       "      <td>0</td>\n",
       "      <td>0.00%</td>\n",
       "    </tr>\n",
       "  </tbody>\n",
       "</table>\n",
       "</div>"
      ],
      "text/plain": [
       "             Missing Count Missing Percentage\n",
       "InvoiceNo                0              0.00%\n",
       "StockCode                0              0.00%\n",
       "Description           1454              0.27%\n",
       "Quantity                 0              0.00%\n",
       "InvoiceDate              0              0.00%\n",
       "UnitPrice                0              0.00%\n",
       "CustomerID          135080             24.93%\n",
       "Country                  0              0.00%"
      ]
     },
     "execution_count": 11,
     "metadata": {},
     "output_type": "execute_result"
    }
   ],
   "source": [
    "missing = pd.DataFrame({'Missing Count': df.isnull().sum(),\n",
    "                        'Missing Percentage': (df.isnull().mean()*100).apply(lambda x: f'{x:.2f}%')})\n",
    "missing"
   ]
  },
  {
   "cell_type": "markdown",
   "id": "b45cd46b-25f8-40b5-a534-146c79c59f23",
   "metadata": {},
   "source": [
    "#### Handling missing value for CustomerID"
   ]
  },
  {
   "cell_type": "code",
   "execution_count": 13,
   "id": "5f2c983d-ec48-43ba-8c4a-4c7a2957e3ca",
   "metadata": {},
   "outputs": [],
   "source": [
    "#Filling the missing CustomerID with a placeholder:  \"Anonymous\" since it's required for customer segmentation\n",
    "\n",
    "df['CustomerID'] = df['CustomerID'].fillna('Anonymous')"
   ]
  },
  {
   "cell_type": "markdown",
   "id": "39aeb98a-5256-41e5-a966-1442ee201449",
   "metadata": {},
   "source": [
    "#### Result verification for CustomerID missing data"
   ]
  },
  {
   "cell_type": "code",
   "execution_count": 15,
   "id": "c65d63b1-bb09-4f82-bd14-4a1af875a4c8",
   "metadata": {},
   "outputs": [
    {
     "name": "stdout",
     "output_type": "stream",
     "text": [
      "0\n"
     ]
    }
   ],
   "source": [
    "# Check if there are still missing CustomerID\n",
    "print(df[\"CustomerID\"].isnull().sum())"
   ]
  },
  {
   "cell_type": "markdown",
   "id": "daea75b1-c8ef-4183-982e-3054c620a08a",
   "metadata": {},
   "source": [
    "#### Handling missing value for Description"
   ]
  },
  {
   "cell_type": "markdown",
   "id": "8b4ca1fd-46ab-44b0-b676-7098f266d3fa",
   "metadata": {},
   "source": [
    "#### 1. Create a Mapping of StockCode to Description: \n",
    "To creates a dictionary where the key is StockCode(a 5-digit integral number uniquely assigned to each distinct product) and the value is the most frequent Description(product name) for that StockCode.ing"
   ]
  },
  {
   "cell_type": "code",
   "execution_count": 17,
   "id": "3a0a9f38-eed5-4973-9a47-4f63ec542dc5",
   "metadata": {},
   "outputs": [],
   "source": [
    "# Group by StockCode and get the most frequent Description for each StockCode\n",
    "description_mapping = df.dropna(subset=['Description'])  # Drop rows with missing Description\n",
    "description_mapping = description_mapping.groupby('StockCode')['Description'].agg(lambda x: x.mode()[0]).to_dict()"
   ]
  },
  {
   "cell_type": "markdown",
   "id": "9271e5f8-150e-472f-9cc3-2cefb3607c0f",
   "metadata": {},
   "source": [
    "#### 2. Impute Missing Description Values Using the Mapping\n",
    "This function below checks if Description is missing and if the StockCode exists in the mapping. If both conditions are met, it fills the missing Description with the corresponding value from the mapping."
   ]
  },
  {
   "cell_type": "code",
   "execution_count": 19,
   "id": "83938ab7-bc53-4c2d-a0be-db3183a3fc97",
   "metadata": {},
   "outputs": [],
   "source": [
    "# Define a function to impute missing descriptions\n",
    "def impute_description(row):\n",
    "    if pd.isna(row['Description']) and row['StockCode'] in description_mapping:\n",
    "        return description_mapping[row['StockCode']]\n",
    "    return row['Description']\n",
    "\n",
    "# Apply the function to fill missing descriptions\n",
    "df['Description'] = df.apply(impute_description, axis=1)"
   ]
  },
  {
   "cell_type": "markdown",
   "id": "8e6c37b8-af87-4463-b3d3-b737bd893309",
   "metadata": {},
   "source": [
    "#### Result verification for descriptions missing data"
   ]
  },
  {
   "cell_type": "code",
   "execution_count": 20,
   "id": "61462f26-3b5a-4c96-8308-3f8a699a2498",
   "metadata": {},
   "outputs": [
    {
     "name": "stdout",
     "output_type": "stream",
     "text": [
      "112\n"
     ]
    }
   ],
   "source": [
    "# Check if there are still missing descriptions\n",
    "print(df['Description'].isnull().sum())"
   ]
  },
  {
   "cell_type": "markdown",
   "id": "33aea88a-f9b2-44ae-bbb9-66fe7ce74c59",
   "metadata": {},
   "source": [
    "#### Filling the remaining description missing data with a Placeholder: \"Unknown\" "
   ]
  },
  {
   "cell_type": "code",
   "execution_count": 23,
   "id": "5a3dd773-37fa-4b79-9235-bf5c692779cf",
   "metadata": {},
   "outputs": [],
   "source": [
    "df['Description'] = df['Description'].fillna('Unknown')"
   ]
  },
  {
   "cell_type": "code",
   "execution_count": 25,
   "id": "3f9cf447-57b3-40d5-9867-3190fa61256b",
   "metadata": {},
   "outputs": [
    {
     "name": "stdout",
     "output_type": "stream",
     "text": [
      "0\n"
     ]
    }
   ],
   "source": [
    "# Check if there are still missing descriptions\n",
    "print(df['Description'].isnull().sum())"
   ]
  },
  {
   "cell_type": "markdown",
   "id": "f86a0c1c-8c03-428d-8827-721e5446001a",
   "metadata": {},
   "source": [
    "##### Verification of Missing data Handling"
   ]
  },
  {
   "cell_type": "code",
   "execution_count": 27,
   "id": "8f43e5cc-a092-4434-b5ae-e74ce7725805",
   "metadata": {},
   "outputs": [
    {
     "data": {
      "text/html": [
       "<div>\n",
       "<style scoped>\n",
       "    .dataframe tbody tr th:only-of-type {\n",
       "        vertical-align: middle;\n",
       "    }\n",
       "\n",
       "    .dataframe tbody tr th {\n",
       "        vertical-align: top;\n",
       "    }\n",
       "\n",
       "    .dataframe thead th {\n",
       "        text-align: right;\n",
       "    }\n",
       "</style>\n",
       "<table border=\"1\" class=\"dataframe\">\n",
       "  <thead>\n",
       "    <tr style=\"text-align: right;\">\n",
       "      <th></th>\n",
       "      <th>Missing Count</th>\n",
       "      <th>Missing Percentage</th>\n",
       "    </tr>\n",
       "  </thead>\n",
       "  <tbody>\n",
       "    <tr>\n",
       "      <th>InvoiceNo</th>\n",
       "      <td>0</td>\n",
       "      <td>0.00%</td>\n",
       "    </tr>\n",
       "    <tr>\n",
       "      <th>StockCode</th>\n",
       "      <td>0</td>\n",
       "      <td>0.00%</td>\n",
       "    </tr>\n",
       "    <tr>\n",
       "      <th>Description</th>\n",
       "      <td>0</td>\n",
       "      <td>0.00%</td>\n",
       "    </tr>\n",
       "    <tr>\n",
       "      <th>Quantity</th>\n",
       "      <td>0</td>\n",
       "      <td>0.00%</td>\n",
       "    </tr>\n",
       "    <tr>\n",
       "      <th>InvoiceDate</th>\n",
       "      <td>0</td>\n",
       "      <td>0.00%</td>\n",
       "    </tr>\n",
       "    <tr>\n",
       "      <th>UnitPrice</th>\n",
       "      <td>0</td>\n",
       "      <td>0.00%</td>\n",
       "    </tr>\n",
       "    <tr>\n",
       "      <th>CustomerID</th>\n",
       "      <td>0</td>\n",
       "      <td>0.00%</td>\n",
       "    </tr>\n",
       "    <tr>\n",
       "      <th>Country</th>\n",
       "      <td>0</td>\n",
       "      <td>0.00%</td>\n",
       "    </tr>\n",
       "  </tbody>\n",
       "</table>\n",
       "</div>"
      ],
      "text/plain": [
       "             Missing Count Missing Percentage\n",
       "InvoiceNo                0              0.00%\n",
       "StockCode                0              0.00%\n",
       "Description              0              0.00%\n",
       "Quantity                 0              0.00%\n",
       "InvoiceDate              0              0.00%\n",
       "UnitPrice                0              0.00%\n",
       "CustomerID               0              0.00%\n",
       "Country                  0              0.00%"
      ]
     },
     "execution_count": 27,
     "metadata": {},
     "output_type": "execute_result"
    }
   ],
   "source": [
    "missing = pd.DataFrame({'Missing Count': df.isnull().sum(),\n",
    "                        'Missing Percentage': (df.isnull().mean()*100).apply(lambda x: f'{x:.2f}%')})\n",
    "missing"
   ]
  },
  {
   "cell_type": "code",
   "execution_count": 29,
   "id": "5397cdae-5e92-4279-a679-984c4e579c89",
   "metadata": {},
   "outputs": [
    {
     "data": {
      "text/plain": [
       "InvoiceNo         0\n",
       "StockCode         0\n",
       "Description       0\n",
       "Quantity          0\n",
       "InvoiceDate       0\n",
       "UnitPrice      2515\n",
       "CustomerID        0\n",
       "Country           0\n",
       "dtype: int64"
      ]
     },
     "execution_count": 29,
     "metadata": {},
     "output_type": "execute_result"
    }
   ],
   "source": [
    "(df == 0).sum() #Also, zero values in numerical columns are checked. I consider the 0 value as a missing value."
   ]
  },
  {
   "cell_type": "code",
   "execution_count": null,
   "id": "f579f642-0ff3-4a67-b9d5-620ea8fd5abe",
   "metadata": {},
   "outputs": [],
   "source": []
  },
  {
   "cell_type": "markdown",
   "id": "5b949e3c-986a-4c05-a496-9f207e304c09",
   "metadata": {},
   "source": [
    "#### I used \"StockCode\" along with \"Description\", to compute unit price for each product with 0 value"
   ]
  },
  {
   "cell_type": "code",
   "execution_count": 31,
   "id": "77c04484-c0f9-4034-a40b-49feb4fb24ab",
   "metadata": {},
   "outputs": [],
   "source": [
    "df['UnitPrice'] = df.groupby('StockCode')['UnitPrice'].transform(lambda x: x.replace(0, x.median()))"
   ]
  },
  {
   "cell_type": "code",
   "execution_count": 33,
   "id": "78c4d834-c4c6-426e-bf6e-ba5e558c4a25",
   "metadata": {},
   "outputs": [
    {
     "data": {
      "text/plain": [
       "InvoiceNo        0\n",
       "StockCode        0\n",
       "Description      0\n",
       "Quantity         0\n",
       "InvoiceDate      0\n",
       "UnitPrice      162\n",
       "CustomerID       0\n",
       "Country          0\n",
       "dtype: int64"
      ]
     },
     "execution_count": 33,
     "metadata": {},
     "output_type": "execute_result"
    }
   ],
   "source": [
    "(df == 0).sum()"
   ]
  },
  {
   "cell_type": "code",
   "execution_count": 35,
   "id": "7a03fb45-ceeb-4b02-b74a-66cca28e10a8",
   "metadata": {},
   "outputs": [],
   "source": [
    "df = df[df['UnitPrice'] > 0] #To keep only rows where UnitPrice is greater than zero in my dataset"
   ]
  },
  {
   "cell_type": "code",
   "execution_count": 37,
   "id": "0a46ee83-b574-4187-aaa4-547c1834f674",
   "metadata": {},
   "outputs": [
    {
     "name": "stdout",
     "output_type": "stream",
     "text": [
      "0\n"
     ]
    }
   ],
   "source": [
    "print(df['UnitPrice'].eq(0).sum())  # I verified to ensure no Zero values remain in my dataset\n"
   ]
  },
  {
   "cell_type": "markdown",
   "id": "33dd4fea-0865-44c4-814a-cbd3c696a38a",
   "metadata": {},
   "source": [
    "### Step 3: Convert categorical variables into numerical representations if necessary"
   ]
  },
  {
   "cell_type": "code",
   "execution_count": 39,
   "id": "cc2ae1ab-fdc5-454f-a915-e66688fce464",
   "metadata": {},
   "outputs": [
    {
     "name": "stdout",
     "output_type": "stream",
     "text": [
      "Number of unique InvoiceNo values: 25737\n",
      "Number of unique StockCode values: 3938\n",
      "Unique InvoiceNo values: [536365 536366 536367 ... 581585 581586 581587]\n",
      "Unique StockCode values: ['85123A' 71053 '84406B' ... '90214U' '47591b' 23843]\n",
      "Counts of InvoiceNo:\n",
      "InvoiceNo\n",
      "573585    1114\n",
      "581219     749\n",
      "581492     731\n",
      "580729     721\n",
      "558475     705\n",
      "          ... \n",
      "570712       1\n",
      "570711       1\n",
      "570710       1\n",
      "570709       1\n",
      "549494       1\n",
      "Name: count, Length: 25737, dtype: int64\n",
      "Counts of StockCode:\n",
      "StockCode\n",
      "85123A    2313\n",
      "22423     2203\n",
      "85099B    2159\n",
      "47566     1727\n",
      "20725     1639\n",
      "          ... \n",
      "m            1\n",
      "85160a       1\n",
      "84839        1\n",
      "84661b       1\n",
      "84536b       1\n",
      "Name: count, Length: 3938, dtype: int64\n"
     ]
    }
   ],
   "source": [
    "def count_unique_values(df, column_name):\n",
    "   \n",
    "    if column_name in df.columns:\n",
    "        unique_count = df[column_name].nunique()\n",
    "        return unique_count\n",
    "    else:\n",
    "        print(f\"Column '{column_name}' not found in the DataFrame.\")\n",
    "        return None\n",
    "\n",
    "\n",
    "# Count unique InvoiceNo values\n",
    "invoice_unique_count = count_unique_values(df, 'InvoiceNo')\n",
    "if invoice_unique_count is not None:\n",
    "    print(f\"Number of unique InvoiceNo values: {invoice_unique_count}\")\n",
    "\n",
    "# Count unique StockCode values\n",
    "stock_unique_count = count_unique_values(df, 'StockCode')\n",
    "if stock_unique_count is not None:\n",
    "    print(f\"Number of unique StockCode values: {stock_unique_count}\")\n",
    "\n",
    "# Get the unique InvoiceNo values\n",
    "unique_invoices = df['InvoiceNo'].unique()\n",
    "print(f\"Unique InvoiceNo values: {unique_invoices}\")\n",
    "\n",
    "# Get the unique StockCode values\n",
    "unique_stocks = df['StockCode'].unique()\n",
    "print(f\"Unique StockCode values: {unique_stocks}\")\n",
    "\n",
    "# Get the counts of each InvoiceNo\n",
    "invoice_counts = df['InvoiceNo'].value_counts()\n",
    "print(f\"Counts of InvoiceNo:\\n{invoice_counts}\")\n",
    "\n",
    "# Get the counts of each StockCode\n",
    "stock_counts = df['StockCode'].value_counts()\n",
    "print(f\"Counts of StockCode:\\n{stock_counts}\")"
   ]
  },
  {
   "cell_type": "markdown",
   "id": "cac21496-c647-4bcb-b0b2-06eb1291f602",
   "metadata": {},
   "source": [
    "### The columns(Stockcode and InvoiceNo) have high cardinality with a large number of unique values which are repeated frequently, \n",
    "I converted them to categorical types to save memory and improve performance."
   ]
  },
  {
   "cell_type": "markdown",
   "id": "0c1f8f7e-beb1-4d63-9802-d8915e6ea5eb",
   "metadata": {},
   "source": [
    "##### Memory usage Before conversion"
   ]
  },
  {
   "cell_type": "code",
   "execution_count": 41,
   "id": "6b1998b5-bb80-4c4b-be8d-14b5b1dc07c7",
   "metadata": {},
   "outputs": [
    {
     "name": "stdout",
     "output_type": "stream",
     "text": [
      "Memory usage before conversion:\n",
      "Index           4333960\n",
      "InvoiceNo      19688600\n",
      "StockCode      20536217\n",
      "Description    40980401\n",
      "Quantity        4333960\n",
      "InvoiceDate     4333960\n",
      "UnitPrice       4333960\n",
      "CustomerID     20843656\n",
      "Country        33791894\n",
      "dtype: int64\n"
     ]
    }
   ],
   "source": [
    "\n",
    "print(\"Memory usage before conversion:\")\n",
    "print(df.memory_usage(deep=True))"
   ]
  },
  {
   "cell_type": "markdown",
   "id": "308e8c5b-074e-4958-bcb7-c4a640379106",
   "metadata": {},
   "source": [
    "### Converting InvoiceNo and StockCode to categorical types"
   ]
  },
  {
   "cell_type": "code",
   "execution_count": 43,
   "id": "c0da6479-cf73-452b-a182-f78b239c4bd1",
   "metadata": {},
   "outputs": [
    {
     "name": "stdout",
     "output_type": "stream",
     "text": [
      "InvoiceNo            category\n",
      "StockCode            category\n",
      "Description            object\n",
      "Quantity                int64\n",
      "InvoiceDate    datetime64[ns]\n",
      "UnitPrice             float64\n",
      "CustomerID             object\n",
      "Country                object\n",
      "dtype: object\n"
     ]
    }
   ],
   "source": [
    "\n",
    "df['InvoiceNo'] = df['InvoiceNo'].astype('category')\n",
    "df['StockCode'] = df['StockCode'].astype('category')\n",
    "\n",
    "# Verify the data types\n",
    "print(df.dtypes)"
   ]
  },
  {
   "attachments": {},
   "cell_type": "markdown",
   "id": "8249b92b-90d3-45f2-864b-20efcf1dd56d",
   "metadata": {},
   "source": [
    "#### Memory usage after converting to categorical types:"
   ]
  },
  {
   "cell_type": "code",
   "execution_count": 45,
   "id": "88e2bee9-819b-435e-87a8-ae768e639c74",
   "metadata": {},
   "outputs": [
    {
     "name": "stdout",
     "output_type": "stream",
     "text": [
      "Memory usage after conversion:\n",
      "Index           4333960\n",
      "InvoiceNo       3143570\n",
      "StockCode       1377533\n",
      "Description    40980401\n",
      "Quantity        4333960\n",
      "InvoiceDate     4333960\n",
      "UnitPrice       4333960\n",
      "CustomerID     20843656\n",
      "Country        33791894\n",
      "dtype: int64\n"
     ]
    }
   ],
   "source": [
    "print(\"Memory usage after conversion:\")\n",
    "print(df.memory_usage(deep=True))"
   ]
  },
  {
   "cell_type": "markdown",
   "id": "630d9b3c-8908-44ac-8417-d5a7126914d2",
   "metadata": {},
   "source": [
    "#### The conversion significantly reduced memory usage, especially for InvoiceNo and StockCode, likely by changing them from object types to more efficient numerical or categorical types. Other columns remained unchanged. This optimization improves performance, speeds up computations, and enhances scalability."
   ]
  },
  {
   "cell_type": "code",
   "execution_count": null,
   "id": "3af243f7-26db-40d4-8739-99d1d7bf7945",
   "metadata": {},
   "outputs": [],
   "source": []
  },
  {
   "cell_type": "markdown",
   "id": "1a213e1e-be3b-474a-90f3-93697eac1b90",
   "metadata": {},
   "source": [
    "### Step 4:Remove duplicate records"
   ]
  },
  {
   "cell_type": "code",
   "execution_count": 47,
   "id": "37e3bc20-2a9d-4b1d-8ba8-be280d8ed958",
   "metadata": {},
   "outputs": [
    {
     "data": {
      "text/plain": [
       "5269"
      ]
     },
     "execution_count": 47,
     "metadata": {},
     "output_type": "execute_result"
    }
   ],
   "source": [
    "df.duplicated().sum()"
   ]
  },
  {
   "cell_type": "markdown",
   "id": "9cd0f01c-bc13-4cf8-9576-e41de929ac05",
   "metadata": {},
   "source": [
    "#### Removing duplicates to ensure my dataset has no duplicate entries which can skew my analysis"
   ]
  },
  {
   "cell_type": "code",
   "execution_count": 49,
   "id": "c7682483-8176-4957-b86b-cb262fe07f6e",
   "metadata": {},
   "outputs": [],
   "source": [
    "df.drop_duplicates(inplace=True)"
   ]
  },
  {
   "cell_type": "markdown",
   "id": "3cd83a62-6099-46d4-9e6a-772be3839db2",
   "metadata": {},
   "source": [
    "#### Confirm duplicates removed"
   ]
  },
  {
   "cell_type": "code",
   "execution_count": 51,
   "id": "a1789697-0e2d-4a14-afed-9aa8a1430da9",
   "metadata": {},
   "outputs": [
    {
     "data": {
      "text/plain": [
       "0"
      ]
     },
     "execution_count": 51,
     "metadata": {},
     "output_type": "execute_result"
    }
   ],
   "source": [
    "df.duplicated().sum()"
   ]
  },
  {
   "cell_type": "markdown",
   "id": "c721dd0e-61e1-4b57-a783-d2de044e263d",
   "metadata": {},
   "source": [
    "### Step 5: Creating a New Feature 'Total Price' (5 Marks) : This helps in analyzing sales trends and customer spending patterns"
   ]
  },
  {
   "cell_type": "code",
   "execution_count": 53,
   "id": "f6fc9330-cdc0-4dd1-a221-56dd3f8f79b0",
   "metadata": {},
   "outputs": [
    {
     "data": {
      "text/html": [
       "<div>\n",
       "<style scoped>\n",
       "    .dataframe tbody tr th:only-of-type {\n",
       "        vertical-align: middle;\n",
       "    }\n",
       "\n",
       "    .dataframe tbody tr th {\n",
       "        vertical-align: top;\n",
       "    }\n",
       "\n",
       "    .dataframe thead th {\n",
       "        text-align: right;\n",
       "    }\n",
       "</style>\n",
       "<table border=\"1\" class=\"dataframe\">\n",
       "  <thead>\n",
       "    <tr style=\"text-align: right;\">\n",
       "      <th></th>\n",
       "      <th>InvoiceNo</th>\n",
       "      <th>StockCode</th>\n",
       "      <th>Description</th>\n",
       "      <th>Quantity</th>\n",
       "      <th>InvoiceDate</th>\n",
       "      <th>UnitPrice</th>\n",
       "      <th>CustomerID</th>\n",
       "      <th>Country</th>\n",
       "      <th>TotalPrice</th>\n",
       "    </tr>\n",
       "  </thead>\n",
       "  <tbody>\n",
       "    <tr>\n",
       "      <th>0</th>\n",
       "      <td>536365</td>\n",
       "      <td>85123A</td>\n",
       "      <td>WHITE HANGING HEART T-LIGHT HOLDER</td>\n",
       "      <td>6</td>\n",
       "      <td>2010-12-01 08:26:00</td>\n",
       "      <td>2.55</td>\n",
       "      <td>17850.0</td>\n",
       "      <td>United Kingdom</td>\n",
       "      <td>15.30</td>\n",
       "    </tr>\n",
       "    <tr>\n",
       "      <th>1</th>\n",
       "      <td>536365</td>\n",
       "      <td>71053</td>\n",
       "      <td>WHITE METAL LANTERN</td>\n",
       "      <td>6</td>\n",
       "      <td>2010-12-01 08:26:00</td>\n",
       "      <td>3.39</td>\n",
       "      <td>17850.0</td>\n",
       "      <td>United Kingdom</td>\n",
       "      <td>20.34</td>\n",
       "    </tr>\n",
       "    <tr>\n",
       "      <th>2</th>\n",
       "      <td>536365</td>\n",
       "      <td>84406B</td>\n",
       "      <td>CREAM CUPID HEARTS COAT HANGER</td>\n",
       "      <td>8</td>\n",
       "      <td>2010-12-01 08:26:00</td>\n",
       "      <td>2.75</td>\n",
       "      <td>17850.0</td>\n",
       "      <td>United Kingdom</td>\n",
       "      <td>22.00</td>\n",
       "    </tr>\n",
       "    <tr>\n",
       "      <th>3</th>\n",
       "      <td>536365</td>\n",
       "      <td>84029G</td>\n",
       "      <td>KNITTED UNION FLAG HOT WATER BOTTLE</td>\n",
       "      <td>6</td>\n",
       "      <td>2010-12-01 08:26:00</td>\n",
       "      <td>3.39</td>\n",
       "      <td>17850.0</td>\n",
       "      <td>United Kingdom</td>\n",
       "      <td>20.34</td>\n",
       "    </tr>\n",
       "    <tr>\n",
       "      <th>4</th>\n",
       "      <td>536365</td>\n",
       "      <td>84029E</td>\n",
       "      <td>RED WOOLLY HOTTIE WHITE HEART.</td>\n",
       "      <td>6</td>\n",
       "      <td>2010-12-01 08:26:00</td>\n",
       "      <td>3.39</td>\n",
       "      <td>17850.0</td>\n",
       "      <td>United Kingdom</td>\n",
       "      <td>20.34</td>\n",
       "    </tr>\n",
       "  </tbody>\n",
       "</table>\n",
       "</div>"
      ],
      "text/plain": [
       "  InvoiceNo StockCode                          Description  Quantity  \\\n",
       "0    536365    85123A   WHITE HANGING HEART T-LIGHT HOLDER         6   \n",
       "1    536365     71053                  WHITE METAL LANTERN         6   \n",
       "2    536365    84406B       CREAM CUPID HEARTS COAT HANGER         8   \n",
       "3    536365    84029G  KNITTED UNION FLAG HOT WATER BOTTLE         6   \n",
       "4    536365    84029E       RED WOOLLY HOTTIE WHITE HEART.         6   \n",
       "\n",
       "          InvoiceDate  UnitPrice CustomerID         Country  TotalPrice  \n",
       "0 2010-12-01 08:26:00       2.55    17850.0  United Kingdom       15.30  \n",
       "1 2010-12-01 08:26:00       3.39    17850.0  United Kingdom       20.34  \n",
       "2 2010-12-01 08:26:00       2.75    17850.0  United Kingdom       22.00  \n",
       "3 2010-12-01 08:26:00       3.39    17850.0  United Kingdom       20.34  \n",
       "4 2010-12-01 08:26:00       3.39    17850.0  United Kingdom       20.34  "
      ]
     },
     "execution_count": 53,
     "metadata": {},
     "output_type": "execute_result"
    }
   ],
   "source": [
    "#Compute Total Price = Quantity * UnitPrice.\n",
    "\n",
    "df[\"TotalPrice\"] = df[\"Quantity\"] * df[\"UnitPrice\"]\n",
    "\n",
    "# Display updated dataset\n",
    "df.head()\n"
   ]
  },
  {
   "cell_type": "markdown",
   "id": "48fd2255-5ea7-48fc-a99b-8ee0b30ad9bf",
   "metadata": {},
   "source": [
    "### Step 6: Normalize Numerical Features"
   ]
  },
  {
   "cell_type": "code",
   "execution_count": 55,
   "id": "34ae5bc0-5c0c-4466-b34a-0be72b21fd9f",
   "metadata": {},
   "outputs": [
    {
     "name": "stdout",
     "output_type": "stream",
     "text": [
      "<class 'pandas.core.frame.DataFrame'>\n",
      "Index: 536476 entries, 0 to 541908\n",
      "Data columns (total 9 columns):\n",
      " #   Column       Non-Null Count   Dtype         \n",
      "---  ------       --------------   -----         \n",
      " 0   InvoiceNo    536476 non-null  category      \n",
      " 1   StockCode    536476 non-null  category      \n",
      " 2   Description  536476 non-null  object        \n",
      " 3   Quantity     536476 non-null  int64         \n",
      " 4   InvoiceDate  536476 non-null  datetime64[ns]\n",
      " 5   UnitPrice    536476 non-null  float64       \n",
      " 6   CustomerID   536476 non-null  object        \n",
      " 7   Country      536476 non-null  object        \n",
      " 8   TotalPrice   536476 non-null  float64       \n",
      "dtypes: category(2), datetime64[ns](1), float64(2), int64(1), object(3)\n",
      "memory usage: 36.2+ MB\n"
     ]
    }
   ],
   "source": [
    "df.info()"
   ]
  },
  {
   "cell_type": "code",
   "execution_count": null,
   "id": "51a46b63-e5d0-4a12-828b-0e8f6b43c6ca",
   "metadata": {},
   "outputs": [],
   "source": []
  },
  {
   "cell_type": "markdown",
   "id": "c8686a13-9594-482f-a371-f0d1b27bc095",
   "metadata": {},
   "source": [
    "#### Normalize Quantity, UnitPrice, and TotalPrice: using MinMax\n",
    "MinMax Scaling brings numerical features to a 0-1 range, making them easier to analyze."
   ]
  },
  {
   "cell_type": "code",
   "execution_count": 57,
   "id": "8c22b572-e53c-4a7c-88ec-b46db4018225",
   "metadata": {},
   "outputs": [
    {
     "data": {
      "text/html": [
       "<div>\n",
       "<style scoped>\n",
       "    .dataframe tbody tr th:only-of-type {\n",
       "        vertical-align: middle;\n",
       "    }\n",
       "\n",
       "    .dataframe tbody tr th {\n",
       "        vertical-align: top;\n",
       "    }\n",
       "\n",
       "    .dataframe thead th {\n",
       "        text-align: right;\n",
       "    }\n",
       "</style>\n",
       "<table border=\"1\" class=\"dataframe\">\n",
       "  <thead>\n",
       "    <tr style=\"text-align: right;\">\n",
       "      <th></th>\n",
       "      <th>InvoiceNo</th>\n",
       "      <th>StockCode</th>\n",
       "      <th>Description</th>\n",
       "      <th>Quantity</th>\n",
       "      <th>InvoiceDate</th>\n",
       "      <th>UnitPrice</th>\n",
       "      <th>CustomerID</th>\n",
       "      <th>Country</th>\n",
       "      <th>TotalPrice</th>\n",
       "    </tr>\n",
       "  </thead>\n",
       "  <tbody>\n",
       "    <tr>\n",
       "      <th>0</th>\n",
       "      <td>536365</td>\n",
       "      <td>85123A</td>\n",
       "      <td>WHITE HANGING HEART T-LIGHT HOLDER</td>\n",
       "      <td>0.500037</td>\n",
       "      <td>2010-12-01 08:26:00</td>\n",
       "      <td>0.000065</td>\n",
       "      <td>17850.0</td>\n",
       "      <td>United Kingdom</td>\n",
       "      <td>0.476741</td>\n",
       "    </tr>\n",
       "    <tr>\n",
       "      <th>1</th>\n",
       "      <td>536365</td>\n",
       "      <td>71053</td>\n",
       "      <td>WHITE METAL LANTERN</td>\n",
       "      <td>0.500037</td>\n",
       "      <td>2010-12-01 08:26:00</td>\n",
       "      <td>0.000087</td>\n",
       "      <td>17850.0</td>\n",
       "      <td>United Kingdom</td>\n",
       "      <td>0.476755</td>\n",
       "    </tr>\n",
       "    <tr>\n",
       "      <th>2</th>\n",
       "      <td>536365</td>\n",
       "      <td>84406B</td>\n",
       "      <td>CREAM CUPID HEARTS COAT HANGER</td>\n",
       "      <td>0.500049</td>\n",
       "      <td>2010-12-01 08:26:00</td>\n",
       "      <td>0.000071</td>\n",
       "      <td>17850.0</td>\n",
       "      <td>United Kingdom</td>\n",
       "      <td>0.476760</td>\n",
       "    </tr>\n",
       "    <tr>\n",
       "      <th>3</th>\n",
       "      <td>536365</td>\n",
       "      <td>84029G</td>\n",
       "      <td>KNITTED UNION FLAG HOT WATER BOTTLE</td>\n",
       "      <td>0.500037</td>\n",
       "      <td>2010-12-01 08:26:00</td>\n",
       "      <td>0.000087</td>\n",
       "      <td>17850.0</td>\n",
       "      <td>United Kingdom</td>\n",
       "      <td>0.476755</td>\n",
       "    </tr>\n",
       "    <tr>\n",
       "      <th>4</th>\n",
       "      <td>536365</td>\n",
       "      <td>84029E</td>\n",
       "      <td>RED WOOLLY HOTTIE WHITE HEART.</td>\n",
       "      <td>0.500037</td>\n",
       "      <td>2010-12-01 08:26:00</td>\n",
       "      <td>0.000087</td>\n",
       "      <td>17850.0</td>\n",
       "      <td>United Kingdom</td>\n",
       "      <td>0.476755</td>\n",
       "    </tr>\n",
       "  </tbody>\n",
       "</table>\n",
       "</div>"
      ],
      "text/plain": [
       "  InvoiceNo StockCode                          Description  Quantity  \\\n",
       "0    536365    85123A   WHITE HANGING HEART T-LIGHT HOLDER  0.500037   \n",
       "1    536365     71053                  WHITE METAL LANTERN  0.500037   \n",
       "2    536365    84406B       CREAM CUPID HEARTS COAT HANGER  0.500049   \n",
       "3    536365    84029G  KNITTED UNION FLAG HOT WATER BOTTLE  0.500037   \n",
       "4    536365    84029E       RED WOOLLY HOTTIE WHITE HEART.  0.500037   \n",
       "\n",
       "          InvoiceDate  UnitPrice CustomerID         Country  TotalPrice  \n",
       "0 2010-12-01 08:26:00   0.000065    17850.0  United Kingdom    0.476741  \n",
       "1 2010-12-01 08:26:00   0.000087    17850.0  United Kingdom    0.476755  \n",
       "2 2010-12-01 08:26:00   0.000071    17850.0  United Kingdom    0.476760  \n",
       "3 2010-12-01 08:26:00   0.000087    17850.0  United Kingdom    0.476755  \n",
       "4 2010-12-01 08:26:00   0.000087    17850.0  United Kingdom    0.476755  "
      ]
     },
     "execution_count": 57,
     "metadata": {},
     "output_type": "execute_result"
    }
   ],
   "source": [
    "from sklearn.preprocessing import MinMaxScaler\n",
    "\n",
    "# Initialize the scaler\n",
    "scaler = MinMaxScaler()\n",
    "\n",
    "# Normalize numerical columns\n",
    "df[[\"Quantity\", \"UnitPrice\", \"TotalPrice\"]] = scaler.fit_transform(df[[\"Quantity\", \"UnitPrice\", \"TotalPrice\"]])\n",
    "\n",
    "# Display normalized dataset\n",
    "df.head()\n"
   ]
  },
  {
   "cell_type": "markdown",
   "id": "7c270c22-b678-4271-bcd0-b02fbb318b29",
   "metadata": {},
   "source": [
    "### Step 7: Display Summary Statistics and Visualizations"
   ]
  },
  {
   "cell_type": "code",
   "execution_count": 59,
   "id": "0dfbe62f-1310-4671-9740-695c929567b1",
   "metadata": {},
   "outputs": [
    {
     "name": "stdout",
     "output_type": "stream",
     "text": [
      "            Quantity                    InvoiceDate      UnitPrice  \\\n",
      "count  536476.000000                         536476  536476.000000   \n",
      "mean        0.500060  2011-07-04 09:37:42.373191168       0.000120   \n",
      "min         0.000000            2010-12-01 08:26:00       0.000000   \n",
      "25%         0.500006            2011-03-28 11:34:00       0.000032   \n",
      "50%         0.500019            2011-07-19 14:29:00       0.000054   \n",
      "75%         0.500062            2011-10-18 17:05:00       0.000106   \n",
      "max         1.000000            2011-12-09 12:50:00       1.000000   \n",
      "std         0.001351                            NaN       0.002435   \n",
      "\n",
      "          TotalPrice  \n",
      "count  536476.000000  \n",
      "mean        0.476749  \n",
      "min         0.000000  \n",
      "25%         0.476708  \n",
      "50%         0.476726  \n",
      "75%         0.476747  \n",
      "max         1.000000  \n",
      "std         0.001309  \n"
     ]
    }
   ],
   "source": [
    "# Summarize dataset statistics \n",
    "print(df.describe())"
   ]
  },
  {
   "cell_type": "code",
   "execution_count": 61,
   "id": "fa6ef17a-edea-4c7d-bbd5-72b6b266ac9e",
   "metadata": {},
   "outputs": [],
   "source": [
    "import matplotlib.pyplot as plt\n",
    "import seaborn as sns"
   ]
  },
  {
   "cell_type": "markdown",
   "id": "5647b56c-92a3-44b8-88f0-67dc86aaeb91",
   "metadata": {},
   "source": [
    "### A. Distribution of Unit Price"
   ]
  },
  {
   "cell_type": "code",
   "execution_count": 362,
   "id": "0008b16b-e2e8-4a73-8267-f289fed60646",
   "metadata": {},
   "outputs": [
    {
     "data": {
      "image/png": "[encoded data removed]",
      "text/plain": [
       "<Figure size 800x500 with 1 Axes>"
      ]
     },
     "metadata": {},
     "output_type": "display_data"
    }
   ],
   "source": [
    "\n",
    "plt.figure(figsize=(8,5))\n",
    "sns.histplot(df['UnitPrice'], bins=50, kde=True)\n",
    "plt.title(\"Distribution of Unit Price\")\n",
    "plt.xlabel(\"Unit Price\")\n",
    "plt.ylabel(\"Frequency\")\n",
    "plt.show()"
   ]
  },
  {
   "cell_type": "markdown",
   "id": "d81bb4e5-466a-432d-9792-8c5a2ab10b2a",
   "metadata": {},
   "source": [
    "#### INSIGHTS:\n",
    "*The histogram shows a highly skewed distribution of unit prices, with the vast majority of items clustered near a price of zero.\n",
    "\n",
    "*A significant spike in frequency occurs at the lowest price range, suggesting a large volume of items priced very low.\n",
    "\n",
    "*The distribution quickly tapers off, indicating very few items with higher unit prices.\n",
    "\n",
    "*This pattern suggests a potential data issue, such as a large number of free or incorrectly priced items, or it could reflect a business model heavily reliant on extremely low-cost products."
   ]
  },
  {
   "cell_type": "markdown",
   "id": "3484d836-057e-44f4-afda-7fcb942b4b57",
   "metadata": {},
   "source": [
    "### B. Top 10 Most Frequent Products Sold"
   ]
  },
  {
   "cell_type": "code",
   "execution_count": 364,
   "id": "a2c6d0c1-aec9-4086-a991-757307ff1075",
   "metadata": {},
   "outputs": [
    {
     "data": {
      "image/png": "[encoded data removed]",
      "text/plain": [
       "<Figure size 1000x500 with 1 Axes>"
      ]
     },
     "metadata": {},
     "output_type": "display_data"
    }
   ],
   "source": [
    "plt.figure(figsize=(10,5))\n",
    "df['Description'].value_counts().nlargest(10).plot(kind='bar', color='skyblue')\n",
    "plt.title(\"Top 10 Most Frequent Products Sold\")\n",
    "plt.xlabel(\"Product Description\")\n",
    "plt.ylabel(\"Count\")\n",
    "plt.xticks(rotation=45, ha='right')\n",
    "plt.show()"
   ]
  },
  {
   "cell_type": "markdown",
   "id": "da8ad25b-19eb-45c6-a65c-9ea14ef6d52d",
   "metadata": {},
   "source": [
    "#### INSIGHT: This chart shows the top 10 best-selling products, with \"WHITE HANGING HEART T-LIGHT HOLDER\" being the most popular. There's a steep drop-off in sales after the top 3.  The variety of products suggests diverse customer interests, with a noticeable trend towards retro designs."
   ]
  },
  {
   "cell_type": "code",
   "execution_count": null,
   "id": "e5678e16-c549-4496-bebd-ded83f4c3398",
   "metadata": {},
   "outputs": [],
   "source": []
  },
  {
   "cell_type": "markdown",
   "id": "cddc7b15-3e72-4b47-8409-3d5f6a2986c2",
   "metadata": {},
   "source": [
    "### C. Total Sales Per Country"
   ]
  },
  {
   "cell_type": "code",
   "execution_count": 366,
   "id": "b80062bd-2ef7-4afc-9147-9b23d7c325da",
   "metadata": {},
   "outputs": [
    {
     "data": {
      "image/png": "[encoded data removed]",
      "text/plain": [
       "<Figure size 1200x600 with 1 Axes>"
      ]
     },
     "metadata": {},
     "output_type": "display_data"
    }
   ],
   "source": [
    "df['TotalPrice'] = df['Quantity'] * df['UnitPrice']\n",
    "\n",
    "plt.figure(figsize=(12,6))\n",
    "df.groupby('Country')['TotalPrice'].sum().sort_values(ascending=False).head(10).plot(kind='bar', color='orange')\n",
    "plt.title(\"Top 10 Countries by Total Sales\")\n",
    "plt.xlabel(\"Country\")\n",
    "plt.ylabel(\"Total Sales ($)\")\n",
    "plt.xticks(rotation=45)\n",
    "plt.show()"
   ]
  },
  {
   "cell_type": "markdown",
   "id": "d0bb5a13-8460-4b81-b430-0e27bc5ae2c2",
   "metadata": {},
   "source": [
    "#### INSIGHT: The UK is the primary source of sales, significantly exceeding other countries. This suggests a strong market presence in the United Kingdom while exploring growth opportunities in other markets"
   ]
  },
  {
   "cell_type": "code",
   "execution_count": null,
   "id": "0ce6b2c1-6bc9-48c9-9f7e-3e6f90552671",
   "metadata": {},
   "outputs": [],
   "source": []
  },
  {
   "cell_type": "markdown",
   "id": "2e7995d1-6c35-480e-b8af-0e3d7c64bf0b",
   "metadata": {},
   "source": [
    "### D. Monthly Sales Trend\n",
    "I converted InvoiceDate to datetime to analyze monthly sales trends:"
   ]
  },
  {
   "cell_type": "code",
   "execution_count": 368,
   "id": "3f68da74-ab11-439b-8ed0-4f12205aa236",
   "metadata": {},
   "outputs": [
    {
     "data": {
      "image/png": "[encoded data removed]",
      "text/plain": [
       "<Figure size 1000x500 with 1 Axes>"
      ]
     },
     "metadata": {},
     "output_type": "display_data"
    }
   ],
   "source": [
    "df['InvoiceDate'] = pd.to_datetime(df['InvoiceDate'])  \n",
    "df['Month'] = df['InvoiceDate'].dt.to_period('M')\n",
    "\n",
    "plt.figure(figsize=(10,5))\n",
    "df.groupby('Month')['TotalPrice'].sum().plot(marker='o', linestyle='-', color='green')\n",
    "plt.title(\"Monthly Sales Trend\")\n",
    "plt.xlabel(\"Month\")\n",
    "plt.ylabel(\"Total Sales ($)\")\n",
    "plt.xticks(rotation=45)\n",
    "plt.show()\n"
   ]
  },
  {
   "cell_type": "markdown",
   "id": "6d5c7d1a-f76f-4754-a1c7-9be7163011d2",
   "metadata": {},
   "source": [
    "#### INSIGHT: This chart shows a clear seasonal sales trend with the highest sales in November, likely due to holiday shopping. February has the lowest sales, indicating a potential post-holiday slump.  Sales steadily increase from April to November, suggesting an opportunity for growth during these months. Businesses can use this information to plan inventory and marketing strategies based on the seasonal fluctuations."
   ]
  },
  {
   "cell_type": "code",
   "execution_count": null,
   "id": "2410883d-ae73-4953-bf00-1f2d22cb76f6",
   "metadata": {},
   "outputs": [],
   "source": []
  },
  {
   "cell_type": "markdown",
   "id": "8999bbed-864f-4104-94b6-db14c09a19d4",
   "metadata": {},
   "source": [
    "## Task 2: Customer Clustering using K-Means\n",
    "Using K-Means clustering to group similar customers based on their purchase behavior ."
   ]
  },
  {
   "cell_type": "markdown",
   "id": "640a5a45-a8b1-434c-8680-57399bfc669c",
   "metadata": {},
   "source": [
    "### Step 1: Select Relevant Features for Clustering "
   ]
  },
  {
   "cell_type": "markdown",
   "id": "0abfe368-832b-4cc8-9736-98157debc166",
   "metadata": {},
   "source": [
    "#### Common features include:\n",
    "*Total Spending (TotalPrice = Quantity × UnitPrice)\n",
    "*Frequency of Purchases (Number of Transactions per Customer)"
   ]
  },
  {
   "cell_type": "code",
   "execution_count": 63,
   "id": "2033bd51-ee94-4885-ae92-0af8ce29355e",
   "metadata": {},
   "outputs": [
    {
     "data": {
      "text/html": [
       "<div>\n",
       "<style scoped>\n",
       "    .dataframe tbody tr th:only-of-type {\n",
       "        vertical-align: middle;\n",
       "    }\n",
       "\n",
       "    .dataframe tbody tr th {\n",
       "        vertical-align: top;\n",
       "    }\n",
       "\n",
       "    .dataframe thead th {\n",
       "        text-align: right;\n",
       "    }\n",
       "</style>\n",
       "<table border=\"1\" class=\"dataframe\">\n",
       "  <thead>\n",
       "    <tr style=\"text-align: right;\">\n",
       "      <th></th>\n",
       "      <th>CustomerID</th>\n",
       "      <th>NumPurchases</th>\n",
       "      <th>TotalPrice</th>\n",
       "    </tr>\n",
       "  </thead>\n",
       "  <tbody>\n",
       "    <tr>\n",
       "      <th>0</th>\n",
       "      <td>12346.0</td>\n",
       "      <td>2</td>\n",
       "      <td>0.953396</td>\n",
       "    </tr>\n",
       "    <tr>\n",
       "      <th>1</th>\n",
       "      <td>12347.0</td>\n",
       "      <td>7</td>\n",
       "      <td>86.771206</td>\n",
       "    </tr>\n",
       "    <tr>\n",
       "      <th>2</th>\n",
       "      <td>12348.0</td>\n",
       "      <td>4</td>\n",
       "      <td>14.782719</td>\n",
       "    </tr>\n",
       "    <tr>\n",
       "      <th>3</th>\n",
       "      <td>12349.0</td>\n",
       "      <td>1</td>\n",
       "      <td>34.803917</td>\n",
       "    </tr>\n",
       "    <tr>\n",
       "      <th>4</th>\n",
       "      <td>12350.0</td>\n",
       "      <td>1</td>\n",
       "      <td>8.104810</td>\n",
       "    </tr>\n",
       "  </tbody>\n",
       "</table>\n",
       "</div>"
      ],
      "text/plain": [
       "  CustomerID  NumPurchases  TotalPrice\n",
       "0    12346.0             2    0.953396\n",
       "1    12347.0             7   86.771206\n",
       "2    12348.0             4   14.782719\n",
       "3    12349.0             1   34.803917\n",
       "4    12350.0             1    8.104810"
      ]
     },
     "execution_count": 63,
     "metadata": {},
     "output_type": "execute_result"
    }
   ],
   "source": [
    "# Aggregate data at the customer level\n",
    "customer_df = df.groupby(\"CustomerID\").agg({\n",
    "    \"InvoiceNo\": \"nunique\",  # Number of purchases (frequency)\n",
    "    \"TotalPrice\": \"sum\"      # Total spending\n",
    "}).reset_index()\n",
    "\n",
    "# Rename columns\n",
    "customer_df.rename(columns={\"InvoiceNo\": \"NumPurchases\"}, inplace=True)\n",
    "\n",
    "# Display the processed dataset\n",
    "customer_df.head()"
   ]
  },
  {
   "cell_type": "markdown",
   "id": "cdb8714f-0a5e-4432-9324-11e51aaaaaea",
   "metadata": {},
   "source": [
    "### Step 2: Normalize Features Before Applying K-Means\n",
    "Since NumPurchases and TotalPrice have different scales, I normalized them using MinMaxScaler to ensure both features contribute equally to clustering."
   ]
  },
  {
   "cell_type": "code",
   "execution_count": 65,
   "id": "efbfe3ce-65da-4d5c-8836-8c4dab7ed4f8",
   "metadata": {},
   "outputs": [
    {
     "data": {
      "text/html": [
       "<div>\n",
       "<style scoped>\n",
       "    .dataframe tbody tr th:only-of-type {\n",
       "        vertical-align: middle;\n",
       "    }\n",
       "\n",
       "    .dataframe tbody tr th {\n",
       "        vertical-align: top;\n",
       "    }\n",
       "\n",
       "    .dataframe thead th {\n",
       "        text-align: right;\n",
       "    }\n",
       "</style>\n",
       "<table border=\"1\" class=\"dataframe\">\n",
       "  <thead>\n",
       "    <tr style=\"text-align: right;\">\n",
       "      <th></th>\n",
       "      <th>CustomerID</th>\n",
       "      <th>NumPurchases</th>\n",
       "      <th>TotalPrice</th>\n",
       "    </tr>\n",
       "  </thead>\n",
       "  <tbody>\n",
       "    <tr>\n",
       "      <th>0</th>\n",
       "      <td>12346.0</td>\n",
       "      <td>0.000282</td>\n",
       "      <td>0.000008</td>\n",
       "    </tr>\n",
       "    <tr>\n",
       "      <th>1</th>\n",
       "      <td>12347.0</td>\n",
       "      <td>0.001692</td>\n",
       "      <td>0.001342</td>\n",
       "    </tr>\n",
       "    <tr>\n",
       "      <th>2</th>\n",
       "      <td>12348.0</td>\n",
       "      <td>0.000846</td>\n",
       "      <td>0.000223</td>\n",
       "    </tr>\n",
       "    <tr>\n",
       "      <th>3</th>\n",
       "      <td>12349.0</td>\n",
       "      <td>0.000000</td>\n",
       "      <td>0.000534</td>\n",
       "    </tr>\n",
       "    <tr>\n",
       "      <th>4</th>\n",
       "      <td>12350.0</td>\n",
       "      <td>0.000000</td>\n",
       "      <td>0.000119</td>\n",
       "    </tr>\n",
       "  </tbody>\n",
       "</table>\n",
       "</div>"
      ],
      "text/plain": [
       "  CustomerID  NumPurchases  TotalPrice\n",
       "0    12346.0      0.000282    0.000008\n",
       "1    12347.0      0.001692    0.001342\n",
       "2    12348.0      0.000846    0.000223\n",
       "3    12349.0      0.000000    0.000534\n",
       "4    12350.0      0.000000    0.000119"
      ]
     },
     "execution_count": 65,
     "metadata": {},
     "output_type": "execute_result"
    }
   ],
   "source": [
    "from sklearn.preprocessing import MinMaxScaler\n",
    "\n",
    "# Initialize the scaler\n",
    "scaler = MinMaxScaler()\n",
    "\n",
    "# Apply normalization\n",
    "customer_df[[\"NumPurchases\", \"TotalPrice\"]] = scaler.fit_transform(customer_df[[\"NumPurchases\", \"TotalPrice\"]])\n",
    "\n",
    "# Display normalized data\n",
    "customer_df.head()\n"
   ]
  },
  {
   "cell_type": "markdown",
   "id": "41c4f1b4-f790-4a24-8605-4e42812cf30f",
   "metadata": {},
   "source": [
    "### Step 3: Use the Elbow Method to Determine Optimal Clusters\n",
    "I determine the optimal number of clusters (K) using the Elbow Method, which plots inertia (WCSS) vs. number of clusters."
   ]
  },
  {
   "cell_type": "code",
   "execution_count": 27,
   "id": "58af02ec-192d-4831-ba15-bfa0da4fffdc",
   "metadata": {},
   "outputs": [
    {
     "name": "stdout",
     "output_type": "stream",
     "text": [
      "Note: you may need to restart the kernel to use updated packages.\n"
     ]
    }
   ],
   "source": [
    "pip install -U scikit-learn --quiet"
   ]
  },
  {
   "cell_type": "code",
   "execution_count": 67,
   "id": "f63a63aa-c467-477a-bc57-e983ff44dc21",
   "metadata": {},
   "outputs": [
    {
     "data": {
      "image/png": "[encoded data removed]",
      "text/plain": [
       "<Figure size 800x500 with 1 Axes>"
      ]
     },
     "metadata": {},
     "output_type": "display_data"
    }
   ],
   "source": [
    "\n",
    "from sklearn.cluster import KMeans\n",
    "\n",
    "# Try different values of K\n",
    "wcss = []\n",
    "K_range = range(1, 11)  # Testing K from 1 to 10\n",
    "\n",
    "for k in K_range:\n",
    "    kmeans = KMeans(n_clusters=k, random_state=42, n_init=10)\n",
    "    kmeans.fit(customer_df[[\"NumPurchases\", \"TotalPrice\"]])\n",
    "    wcss.append(kmeans.inertia_)\n",
    "\n",
    "# Plot the Elbow Method\n",
    "plt.figure(figsize=(8, 5))\n",
    "plt.plot(K_range, wcss, marker='o')\n",
    "plt.xlabel(\"Number of Clusters (K)\")\n",
    "plt.ylabel(\"WCSS (Within-Cluster Sum of Squares)\")\n",
    "plt.title(\"Elbow Method for Optimal K\")\n",
    "plt.show()\n"
   ]
  },
  {
   "cell_type": "markdown",
   "id": "187f961f-0798-4ae8-810c-99540dda3681",
   "metadata": {},
   "source": [
    "#### Conclusion\n",
    "\n",
    "Based on this Elbow Method plot, the optimal number of clusters for my K-Means clustering is K=2 (I picked K where WCSS stops decreasing significantly). \n",
    "\n",
    "This is because:\n",
    "It captures a significant reduction in WCSS compared to K=1.\n",
    "Adding more clusters beyond 2 doesn't provide a significant improvement, suggesting that the data is well-separated into two distinct groups."
   ]
  },
  {
   "cell_type": "code",
   "execution_count": null,
   "id": "73ae775c-1acb-4d0d-ba50-85cdd5ee3734",
   "metadata": {},
   "outputs": [],
   "source": []
  },
  {
   "cell_type": "markdown",
   "id": "be0d608c-81e1-4ceb-97f2-194ce9ab4be0",
   "metadata": {},
   "source": [
    "### Step 4: Apply K-Means Algorithm & Interpret Clusters\n",
    "I applied K-Means clustering with the optimal K = 2."
   ]
  },
  {
   "cell_type": "code",
   "execution_count": 94,
   "id": "53a829cf-df58-4388-b770-c7baaabcc06a",
   "metadata": {},
   "outputs": [
    {
     "data": {
      "text/html": [
       "<div>\n",
       "<style scoped>\n",
       "    .dataframe tbody tr th:only-of-type {\n",
       "        vertical-align: middle;\n",
       "    }\n",
       "\n",
       "    .dataframe tbody tr th {\n",
       "        vertical-align: top;\n",
       "    }\n",
       "\n",
       "    .dataframe thead th {\n",
       "        text-align: right;\n",
       "    }\n",
       "</style>\n",
       "<table border=\"1\" class=\"dataframe\">\n",
       "  <thead>\n",
       "    <tr style=\"text-align: right;\">\n",
       "      <th></th>\n",
       "      <th>CustomerID</th>\n",
       "      <th>NumPurchases</th>\n",
       "      <th>TotalPrice</th>\n",
       "      <th>Cluster</th>\n",
       "    </tr>\n",
       "  </thead>\n",
       "  <tbody>\n",
       "    <tr>\n",
       "      <th>0</th>\n",
       "      <td>12346.0</td>\n",
       "      <td>0.000282</td>\n",
       "      <td>0.000008</td>\n",
       "      <td>0</td>\n",
       "    </tr>\n",
       "    <tr>\n",
       "      <th>1</th>\n",
       "      <td>12347.0</td>\n",
       "      <td>0.001692</td>\n",
       "      <td>0.001342</td>\n",
       "      <td>0</td>\n",
       "    </tr>\n",
       "    <tr>\n",
       "      <th>2</th>\n",
       "      <td>12348.0</td>\n",
       "      <td>0.000846</td>\n",
       "      <td>0.000223</td>\n",
       "      <td>0</td>\n",
       "    </tr>\n",
       "    <tr>\n",
       "      <th>3</th>\n",
       "      <td>12349.0</td>\n",
       "      <td>0.000000</td>\n",
       "      <td>0.000534</td>\n",
       "      <td>0</td>\n",
       "    </tr>\n",
       "    <tr>\n",
       "      <th>4</th>\n",
       "      <td>12350.0</td>\n",
       "      <td>0.000000</td>\n",
       "      <td>0.000119</td>\n",
       "      <td>0</td>\n",
       "    </tr>\n",
       "  </tbody>\n",
       "</table>\n",
       "</div>"
      ],
      "text/plain": [
       "  CustomerID  NumPurchases  TotalPrice  Cluster\n",
       "0    12346.0      0.000282    0.000008        0\n",
       "1    12347.0      0.001692    0.001342        0\n",
       "2    12348.0      0.000846    0.000223        0\n",
       "3    12349.0      0.000000    0.000534        0\n",
       "4    12350.0      0.000000    0.000119        0"
      ]
     },
     "execution_count": 94,
     "metadata": {},
     "output_type": "execute_result"
    }
   ],
   "source": [
    "optimal_k = 2\n",
    "kmeans = KMeans(n_clusters=optimal_k, random_state=42, n_init=10)\n",
    "\n",
    "# Fit and predict cluster labels\n",
    "customer_df[\"Cluster\"] = kmeans.fit_predict(customer_df[[\"NumPurchases\", \"TotalPrice\"]])\n",
    "\n",
    "# Display cluster assignments\n",
    "customer_df.head()\n"
   ]
  },
  {
   "cell_type": "markdown",
   "id": "853a20e9-d6ba-4966-88ca-ca10d89b279e",
   "metadata": {},
   "source": [
    "#### Interpretation of Clusters:\n",
    "\n",
    "Cluster 0 → Low spending, lower purchase frequency\n",
    "Cluster 1 → High spending, Higher purchase frequency"
   ]
  },
  {
   "cell_type": "code",
   "execution_count": null,
   "id": "d7ef8113-f922-4d5f-ab18-800ace9c942c",
   "metadata": {},
   "outputs": [],
   "source": []
  },
  {
   "cell_type": "markdown",
   "id": "f82ba5a7-590b-4d4b-a33a-3422b349d638",
   "metadata": {},
   "source": [
    "### Step 5: Visualize Clustering Results Using Scatter Plots\n",
    "I ploted customers in different clusters"
   ]
  },
  {
   "cell_type": "code",
   "execution_count": 96,
   "id": "b9e724de-464f-494d-b1f1-0e8a9b7a1bb3",
   "metadata": {},
   "outputs": [
    {
     "data": {
      "image/png": "[encoded data removed]",
      "text/plain": [
       "<Figure size 800x500 with 1 Axes>"
      ]
     },
     "metadata": {},
     "output_type": "display_data"
    }
   ],
   "source": [
    "import seaborn as sns\n",
    "\n",
    "plt.figure(figsize=(8, 5))\n",
    "sns.scatterplot(data=customer_df, x=\"NumPurchases\", y=\"TotalPrice\", hue=\"Cluster\", palette=\"Set1\", s=50)\n",
    "plt.xlabel(\"Number of Purchases\")\n",
    "plt.ylabel(\"Total Spending\")\n",
    "plt.title(\"Customer Segmentation using K-Means\")\n",
    "plt.show()\n"
   ]
  },
  {
   "cell_type": "markdown",
   "id": "0cfe3cc0-5686-4876-95e0-4efde96b9cca",
   "metadata": {},
   "source": [
    "#### Conclusion: This scatter plot shows two distinct customer groups based on their number of purchases and total spending. One cluster represents low-value customers with low purchases and spending, while the other cluster has a single high-value outlier. This segmentation allows businesses to develop targeted marketing strategies for each group. The outlier customer warrants further analysis to understand their unique behavior."
   ]
  },
  {
   "cell_type": "code",
   "execution_count": null,
   "id": "eb615306-2a48-4c46-81fa-03203319bad2",
   "metadata": {},
   "outputs": [],
   "source": []
  },
  {
   "cell_type": "markdown",
   "id": "34973309-23e3-426e-b77a-fe9f3664c6a8",
   "metadata": {},
   "source": [
    "### Step 6: Evaluate Clustering Quality Using Silhouette Score\n",
    "I used the silhouette score to measure how well-separated the clusters are."
   ]
  },
  {
   "cell_type": "code",
   "execution_count": 98,
   "id": "afed0b37-a05c-4b1f-91cc-ac5aa6c6a691",
   "metadata": {},
   "outputs": [
    {
     "name": "stdout",
     "output_type": "stream",
     "text": [
      "Silhouette Score: 1.00\n"
     ]
    }
   ],
   "source": [
    "from sklearn.metrics import silhouette_score\n",
    "\n",
    "# Compute silhouette score\n",
    "silhouette_avg = silhouette_score(customer_df[[\"NumPurchases\", \"TotalPrice\"]], customer_df[\"Cluster\"])\n",
    "print(f\"Silhouette Score: {silhouette_avg:.2f}\")\n"
   ]
  },
  {
   "cell_type": "markdown",
   "id": "7c74eac8-4235-4258-9fc0-8d93437e992c",
   "metadata": {},
   "source": [
    "#### K=2 (Silhouette Score: 1.00): This is a perfect score! It indicates that with two clusters, the data points are perfectly separated and assigned to the most appropriate cluster. There's no ambiguity in cluster assignments."
   ]
  },
  {
   "cell_type": "code",
   "execution_count": null,
   "id": "01bc8063-ef56-4870-934b-a8f8a7dbbd7b",
   "metadata": {},
   "outputs": [],
   "source": []
  },
  {
   "cell_type": "markdown",
   "id": "323021db-7526-4a5c-9450-04a425a7b641",
   "metadata": {},
   "source": [
    "### Step 7: Business Insights from Customer Segmentation\n",
    "How businesses can use these insights:\n",
    "Customer segmentation is a powerful tool that allows businesses to group customers based on shared characteristics, behaviors, or preferences. These insights can be leveraged across various business functions to improve efficiency, effectiveness, and profitability. Here's how:\n",
    "\n",
    "1. Targeted Marketing:\n",
    "\n",
    "Personalized Campaigns: Craft marketing messages and offers tailored to specific customer segments. For example, high-value customers might receive exclusive offers or early access to new products, while price-sensitive customers might respond better to discounts and promotions.\n",
    "Channel Optimization: Determine the most effective channels to reach each segment. Younger audiences might be more responsive to social media campaigns, while older demographics might prefer email or direct mail.\n",
    "Product Development: Identify unmet needs or preferences within segments to guide product development and innovation.\n",
    "\n",
    "2. Customer Experience:\n",
    "\n",
    "Personalized Service: Provide tailored customer service based on segment needs and preferences. High-value customers might receive priority support or dedicated account managers.\n",
    "Improved Communication: Communicate with customers in a way that resonates with their segment. Use language, tone, and style that aligns with their preferences.\n",
    "Loyalty Programs: Design loyalty programs that cater to the specific needs and motivations of different segments.\n",
    "\n",
    "3. Sales and Revenue:\n",
    "\n",
    "Cross-selling and Upselling: Identify opportunities to cross-sell or upsell products or services based on the purchase history and preferences of each segment.\n",
    "Pricing Strategies: Develop pricing strategies that align with the price sensitivity and value perception of different segments.\n",
    "Customer Retention: Implement strategies to retain high-value customers and reduce churn.\n",
    "\n",
    "4. Operational Efficiency:\n",
    "\n",
    "Resource Allocation: Allocate resources effectively by focusing on the most valuable customer segments.\n",
    "Inventory Management: Optimize inventory levels based on the anticipated demand from different segments.\n",
    "Customer Support: Tailor customer support resources to address the specific needs and issues of different segments.\n",
    "\n",
    "Examples:\n",
    "\n",
    "A clothing retailer might segment customers by age, gender, and style preferences to personalize product recommendations and marketing messages.\n",
    "\n",
    "A software company might segment customers by usage patterns and needs to offer different pricing plans and support levels.\n",
    "\n",
    "A travel agency might segment customers by travel style and budget to create customized travel packages and experiences.\n",
    "\n",
    "Conclussion\n",
    "By leveraging customer segmentation insights, businesses can create more effective marketing campaigns, improve customer experience, increase sales and revenue, and optimize operational efficiency."
   ]
  },
  {
   "cell_type": "code",
   "execution_count": null,
   "id": "2a790174-948c-42a9-80b2-15ef87a2fde5",
   "metadata": {},
   "outputs": [],
   "source": []
  },
  {
   "cell_type": "markdown",
   "id": "c5030a73-cdd5-4ed0-bb80-353605deb6d7",
   "metadata": {},
   "source": [
    "## Task 3: Association Rule Mining\n",
    "Apply the Apriori Algorithm to find frequent itemsets and association rules."
   ]
  },
  {
   "cell_type": "code",
   "execution_count": null,
   "id": "cdc78b81-aafb-4472-8b33-aade8ab4914b",
   "metadata": {},
   "outputs": [],
   "source": []
  },
  {
   "cell_type": "markdown",
   "id": "d0112db1-7085-4e43-9c7d-aabbd3b876a8",
   "metadata": {},
   "source": [
    "### Step 1: Convert Transactional Data into the Correct Format for Association rule mining\n",
    "\n",
    "Apriori requires the dataset to be in a transaction-based format (a list of items bought together per transaction)."
   ]
  },
  {
   "cell_type": "code",
   "execution_count": 18,
   "id": "5ffa0542-0e6f-46a4-bd54-e6e7c979c743",
   "metadata": {},
   "outputs": [],
   "source": [
    "!pip install mlxtend --quiet"
   ]
  },
  {
   "cell_type": "code",
   "execution_count": 122,
   "id": "8bb3866a-0c03-4394-9a8e-c59a5ff51609",
   "metadata": {},
   "outputs": [
    {
     "name": "stdout",
     "output_type": "stream",
     "text": [
      "   10002  10080  10120  10123C  10124A  10124G  10125  10133  10135  11001  \\\n",
      "0  False  False  False   False   False   False  False  False  False  False   \n",
      "1  False  False  False   False   False   False  False  False  False  False   \n",
      "2  False  False  False   False   False   False  False  False  False  False   \n",
      "3  False  False  False   False   False   False  False  False  False  False   \n",
      "4  False  False  False   False   False   False  False  False  False  False   \n",
      "\n",
      "   ...      M   PADS   POST      S  gift_0001_10  gift_0001_20  gift_0001_30  \\\n",
      "0  ...  False  False  False  False         False         False         False   \n",
      "1  ...  False  False  False  False         False         False         False   \n",
      "2  ...  False  False  False  False         False         False         False   \n",
      "3  ...  False  False  False  False         False         False         False   \n",
      "4  ...  False  False  False  False         False         False         False   \n",
      "\n",
      "   gift_0001_40  gift_0001_50      m  \n",
      "0         False         False  False  \n",
      "1         False         False  False  \n",
      "2         False         False  False  \n",
      "3         False         False  False  \n",
      "4         False         False  False  \n",
      "\n",
      "[5 rows x 3938 columns]\n"
     ]
    }
   ],
   "source": [
    "#import pandas as pd\n",
    "from mlxtend.preprocessing import TransactionEncoder\n",
    "\n",
    "# Step 1: Convert StockCode to strings (to avoid TypeError)\n",
    "df['StockCode'] = df['StockCode'].astype(str)\n",
    "\n",
    "# Step 2: Group transactions by InvoiceNo (explicitly set observed=False to silence the warning)\n",
    "transactions = df.groupby(\"InvoiceNo\", observed=False)[\"StockCode\"].apply(list).tolist()\n",
    "\n",
    "# Step 3: Use TransactionEncoder to one-hot encode the transactions\n",
    "te = TransactionEncoder()\n",
    "te_data = te.fit(transactions).transform(transactions)\n",
    "\n",
    "# Step 4: Convert the encoded data into a DataFrame\n",
    "df_encoded = pd.DataFrame(te_data, columns=te.columns_)\n",
    "\n",
    "# Step 5: Display the first few rows of the encoded DataFrame\n",
    "print(df_encoded.head())\n"
   ]
  },
  {
   "cell_type": "code",
   "execution_count": null,
   "id": "2b01f895-ca9b-4f96-b5aa-633a79711375",
   "metadata": {},
   "outputs": [],
   "source": []
  },
  {
   "cell_type": "markdown",
   "id": "cc85b6f4-5394-4471-93cc-a850af90e9cc",
   "metadata": {},
   "source": [
    "### Step 2: Apply the Apriori Algorithm to Identify Frequent Itemsets\n",
    "I applied Apriori to find frequent itemsets with support ≥ 0.01 (1%) and display the first 10 frequent_itemsets."
   ]
  },
  {
   "cell_type": "code",
   "execution_count": 140,
   "id": "052073ed-4f7d-4ec1-b84a-54615afd8771",
   "metadata": {},
   "outputs": [
    {
     "data": {
      "text/html": [
       "<div>\n",
       "<style scoped>\n",
       "    .dataframe tbody tr th:only-of-type {\n",
       "        vertical-align: middle;\n",
       "    }\n",
       "\n",
       "    .dataframe tbody tr th {\n",
       "        vertical-align: top;\n",
       "    }\n",
       "\n",
       "    .dataframe thead th {\n",
       "        text-align: right;\n",
       "    }\n",
       "</style>\n",
       "<table border=\"1\" class=\"dataframe\">\n",
       "  <thead>\n",
       "    <tr style=\"text-align: right;\">\n",
       "      <th></th>\n",
       "      <th>support</th>\n",
       "      <th>itemsets</th>\n",
       "    </tr>\n",
       "  </thead>\n",
       "  <tbody>\n",
       "    <tr>\n",
       "      <th>595</th>\n",
       "      <td>0.087267</td>\n",
       "      <td>(85123A)</td>\n",
       "    </tr>\n",
       "    <tr>\n",
       "      <th>247</th>\n",
       "      <td>0.084392</td>\n",
       "      <td>(22423)</td>\n",
       "    </tr>\n",
       "    <tr>\n",
       "      <th>592</th>\n",
       "      <td>0.082955</td>\n",
       "      <td>(85099B)</td>\n",
       "    </tr>\n",
       "    <tr>\n",
       "      <th>519</th>\n",
       "      <td>0.066286</td>\n",
       "      <td>(47566)</td>\n",
       "    </tr>\n",
       "    <tr>\n",
       "      <th>17</th>\n",
       "      <td>0.062478</td>\n",
       "      <td>(20725)</td>\n",
       "    </tr>\n",
       "    <tr>\n",
       "      <th>568</th>\n",
       "      <td>0.057039</td>\n",
       "      <td>(84879)</td>\n",
       "    </tr>\n",
       "    <tr>\n",
       "      <th>332</th>\n",
       "      <td>0.056805</td>\n",
       "      <td>(22720)</td>\n",
       "    </tr>\n",
       "    <tr>\n",
       "      <th>208</th>\n",
       "      <td>0.056028</td>\n",
       "      <td>(22197)</td>\n",
       "    </tr>\n",
       "    <tr>\n",
       "      <th>64</th>\n",
       "      <td>0.051832</td>\n",
       "      <td>(21212)</td>\n",
       "    </tr>\n",
       "    <tr>\n",
       "      <th>238</th>\n",
       "      <td>0.050744</td>\n",
       "      <td>(22383)</td>\n",
       "    </tr>\n",
       "  </tbody>\n",
       "</table>\n",
       "</div>"
      ],
      "text/plain": [
       "      support  itemsets\n",
       "595  0.087267  (85123A)\n",
       "247  0.084392   (22423)\n",
       "592  0.082955  (85099B)\n",
       "519  0.066286   (47566)\n",
       "17   0.062478   (20725)\n",
       "568  0.057039   (84879)\n",
       "332  0.056805   (22720)\n",
       "208  0.056028   (22197)\n",
       "64   0.051832   (21212)\n",
       "238  0.050744   (22383)"
      ]
     },
     "execution_count": 140,
     "metadata": {},
     "output_type": "execute_result"
    }
   ],
   "source": [
    "from mlxtend.frequent_patterns import apriori\n",
    "\n",
    "# Apply Apriori algorithm\n",
    "frequent_itemsets = apriori(df_encoded, min_support=0.01, use_colnames=True)\n",
    "\n",
    "# Display frequent itemsets\n",
    "frequent_itemsets.sort_values(by=\"support\", ascending=False).head(10)\n"
   ]
  },
  {
   "cell_type": "markdown",
   "id": "ba8d312f-835f-42f5-ba98-1bdde016e765",
   "metadata": {},
   "source": [
    "### Step 3: Generate Association Rules\n",
    "I generated rules with minimum support = 0.15 and confidence = 0.5."
   ]
  },
  {
   "cell_type": "code",
   "execution_count": 134,
   "id": "1ba94743-183e-4e9e-80eb-6df5afa31813",
   "metadata": {},
   "outputs": [
    {
     "data": {
      "text/html": [
       "<div>\n",
       "<style scoped>\n",
       "    .dataframe tbody tr th:only-of-type {\n",
       "        vertical-align: middle;\n",
       "    }\n",
       "\n",
       "    .dataframe tbody tr th {\n",
       "        vertical-align: top;\n",
       "    }\n",
       "\n",
       "    .dataframe thead th {\n",
       "        text-align: right;\n",
       "    }\n",
       "</style>\n",
       "<table border=\"1\" class=\"dataframe\">\n",
       "  <thead>\n",
       "    <tr style=\"text-align: right;\">\n",
       "      <th></th>\n",
       "      <th>support</th>\n",
       "      <th>itemsets</th>\n",
       "    </tr>\n",
       "  </thead>\n",
       "  <tbody>\n",
       "  </tbody>\n",
       "</table>\n",
       "</div>"
      ],
      "text/plain": [
       "Empty DataFrame\n",
       "Columns: [support, itemsets]\n",
       "Index: []"
      ]
     },
     "execution_count": 134,
     "metadata": {},
     "output_type": "execute_result"
    }
   ],
   "source": [
    "from mlxtend.frequent_patterns import apriori\n",
    "\n",
    "# Apply Apriori algorithm\n",
    "frequent_itemsets_association = apriori(df_encoded, min_support=0.15, use_colnames=True)\n",
    "\n",
    "# Display frequent itemsets\n",
    "frequent_itemsets_association.sort_values(by=\"support\", ascending=False).head(10)"
   ]
  },
  {
   "cell_type": "markdown",
   "id": "5b8f1b29-34d4-417a-9f87-e9a3dc875fe2",
   "metadata": {},
   "source": [
    "#### At minimum support = 0.15, my frequent_itemsets return zero"
   ]
  },
  {
   "cell_type": "code",
   "execution_count": 136,
   "id": "4fb5b61f-13ac-46f5-a64a-1fe16d3db62e",
   "metadata": {},
   "outputs": [
    {
     "ename": "ValueError",
     "evalue": "The input DataFrame `df` containing the frequent itemsets is empty.",
     "output_type": "error",
     "traceback": [
      "\u001b[1;31m---------------------------------------------------------------------------\u001b[0m",
      "\u001b[1;31mValueError\u001b[0m                                Traceback (most recent call last)",
      "Cell \u001b[1;32mIn[136], line 4\u001b[0m\n\u001b[0;32m      1\u001b[0m \u001b[38;5;28;01mfrom\u001b[39;00m \u001b[38;5;21;01mmlxtend\u001b[39;00m\u001b[38;5;21;01m.\u001b[39;00m\u001b[38;5;21;01mfrequent_patterns\u001b[39;00m \u001b[38;5;28;01mimport\u001b[39;00m association_rules\n\u001b[0;32m      3\u001b[0m \u001b[38;5;66;03m# Generate association rules\u001b[39;00m\n\u001b[1;32m----> 4\u001b[0m rules \u001b[38;5;241m=\u001b[39m association_rules(frequent_itemsets_association, metric\u001b[38;5;241m=\u001b[39m\u001b[38;5;124m\"\u001b[39m\u001b[38;5;124mconfidence\u001b[39m\u001b[38;5;124m\"\u001b[39m, min_threshold\u001b[38;5;241m=\u001b[39m\u001b[38;5;241m0.5\u001b[39m)\n\u001b[0;32m      6\u001b[0m \u001b[38;5;66;03m# Display top 10 rules\u001b[39;00m\n\u001b[0;32m      7\u001b[0m rules\u001b[38;5;241m.\u001b[39msort_values(by\u001b[38;5;241m=\u001b[39m\u001b[38;5;124m\"\u001b[39m\u001b[38;5;124mconfidence\u001b[39m\u001b[38;5;124m\"\u001b[39m, ascending\u001b[38;5;241m=\u001b[39m\u001b[38;5;28;01mFalse\u001b[39;00m)\u001b[38;5;241m.\u001b[39mhead(\u001b[38;5;241m10\u001b[39m)\n",
      "File \u001b[1;32m~\\anaconda3\\Lib\\site-packages\\mlxtend\\frequent_patterns\\association_rules.py:130\u001b[0m, in \u001b[0;36massociation_rules\u001b[1;34m(df, num_itemsets, df_orig, null_values, metric, min_threshold, support_only, return_metrics)\u001b[0m\n\u001b[0;32m    127\u001b[0m fpc\u001b[38;5;241m.\u001b[39mvalid_input_check(df_orig, null_values)\n\u001b[0;32m    129\u001b[0m \u001b[38;5;28;01mif\u001b[39;00m \u001b[38;5;129;01mnot\u001b[39;00m df\u001b[38;5;241m.\u001b[39mshape[\u001b[38;5;241m0\u001b[39m]:\n\u001b[1;32m--> 130\u001b[0m     \u001b[38;5;28;01mraise\u001b[39;00m \u001b[38;5;167;01mValueError\u001b[39;00m(\n\u001b[0;32m    131\u001b[0m         \u001b[38;5;124m\"\u001b[39m\u001b[38;5;124mThe input DataFrame `df` containing \u001b[39m\u001b[38;5;124m\"\u001b[39m \u001b[38;5;124m\"\u001b[39m\u001b[38;5;124mthe frequent itemsets is empty.\u001b[39m\u001b[38;5;124m\"\u001b[39m\n\u001b[0;32m    132\u001b[0m     )\n\u001b[0;32m    134\u001b[0m \u001b[38;5;66;03m# check for mandatory columns\u001b[39;00m\n\u001b[0;32m    135\u001b[0m \u001b[38;5;28;01mif\u001b[39;00m \u001b[38;5;129;01mnot\u001b[39;00m \u001b[38;5;28mall\u001b[39m(col \u001b[38;5;129;01min\u001b[39;00m df\u001b[38;5;241m.\u001b[39mcolumns \u001b[38;5;28;01mfor\u001b[39;00m col \u001b[38;5;129;01min\u001b[39;00m [\u001b[38;5;124m\"\u001b[39m\u001b[38;5;124msupport\u001b[39m\u001b[38;5;124m\"\u001b[39m, \u001b[38;5;124m\"\u001b[39m\u001b[38;5;124mitemsets\u001b[39m\u001b[38;5;124m\"\u001b[39m]):\n",
      "\u001b[1;31mValueError\u001b[0m: The input DataFrame `df` containing the frequent itemsets is empty."
     ]
    }
   ],
   "source": [
    "from mlxtend.frequent_patterns import association_rules\n",
    "\n",
    "# Generate association rules\n",
    "rules = association_rules(frequent_itemsets_association, metric=\"confidence\", min_threshold=0.5)\n",
    "\n",
    "# Display top 10 rules\n",
    "rules.sort_values(by=\"confidence\", ascending=False).head(10)\n"
   ]
  },
  {
   "cell_type": "markdown",
   "id": "2092ac1a-d87e-4e60-a15d-6afc4c60fed2",
   "metadata": {},
   "source": [
    "### I got the error message while trying generate association rule with an empty frequent_itemsets"
   ]
  },
  {
   "cell_type": "code",
   "execution_count": 142,
   "id": "e14ccaa7-164b-445d-9bf0-3b45c013cc57",
   "metadata": {},
   "outputs": [
    {
     "data": {
      "text/html": [
       "<div>\n",
       "<style scoped>\n",
       "    .dataframe tbody tr th:only-of-type {\n",
       "        vertical-align: middle;\n",
       "    }\n",
       "\n",
       "    .dataframe tbody tr th {\n",
       "        vertical-align: top;\n",
       "    }\n",
       "\n",
       "    .dataframe thead th {\n",
       "        text-align: right;\n",
       "    }\n",
       "</style>\n",
       "<table border=\"1\" class=\"dataframe\">\n",
       "  <thead>\n",
       "    <tr style=\"text-align: right;\">\n",
       "      <th></th>\n",
       "      <th>antecedents</th>\n",
       "      <th>consequents</th>\n",
       "      <th>antecedent support</th>\n",
       "      <th>consequent support</th>\n",
       "      <th>support</th>\n",
       "      <th>confidence</th>\n",
       "      <th>lift</th>\n",
       "      <th>representativity</th>\n",
       "      <th>leverage</th>\n",
       "      <th>conviction</th>\n",
       "      <th>zhangs_metric</th>\n",
       "      <th>jaccard</th>\n",
       "      <th>certainty</th>\n",
       "      <th>kulczynski</th>\n",
       "    </tr>\n",
       "  </thead>\n",
       "  <tbody>\n",
       "    <tr>\n",
       "      <th>348</th>\n",
       "      <td>(23172, 23170)</td>\n",
       "      <td>(23171)</td>\n",
       "      <td>0.010568</td>\n",
       "      <td>0.014998</td>\n",
       "      <td>0.010024</td>\n",
       "      <td>0.948529</td>\n",
       "      <td>63.244304</td>\n",
       "      <td>1.0</td>\n",
       "      <td>0.009866</td>\n",
       "      <td>19.137184</td>\n",
       "      <td>0.994701</td>\n",
       "      <td>0.645000</td>\n",
       "      <td>0.947746</td>\n",
       "      <td>0.808462</td>\n",
       "    </tr>\n",
       "    <tr>\n",
       "      <th>349</th>\n",
       "      <td>(23172, 23171)</td>\n",
       "      <td>(23170)</td>\n",
       "      <td>0.010957</td>\n",
       "      <td>0.017757</td>\n",
       "      <td>0.010024</td>\n",
       "      <td>0.914894</td>\n",
       "      <td>51.524326</td>\n",
       "      <td>1.0</td>\n",
       "      <td>0.009830</td>\n",
       "      <td>11.541361</td>\n",
       "      <td>0.991455</td>\n",
       "      <td>0.536383</td>\n",
       "      <td>0.913355</td>\n",
       "      <td>0.739723</td>\n",
       "    </tr>\n",
       "    <tr>\n",
       "      <th>381</th>\n",
       "      <td>(22699, 22698, 22423)</td>\n",
       "      <td>(22697)</td>\n",
       "      <td>0.013094</td>\n",
       "      <td>0.041069</td>\n",
       "      <td>0.011773</td>\n",
       "      <td>0.899110</td>\n",
       "      <td>21.892515</td>\n",
       "      <td>1.0</td>\n",
       "      <td>0.011235</td>\n",
       "      <td>9.504696</td>\n",
       "      <td>0.966984</td>\n",
       "      <td>0.277727</td>\n",
       "      <td>0.894789</td>\n",
       "      <td>0.592885</td>\n",
       "    </tr>\n",
       "    <tr>\n",
       "      <th>115</th>\n",
       "      <td>(23172)</td>\n",
       "      <td>(23171)</td>\n",
       "      <td>0.012200</td>\n",
       "      <td>0.014998</td>\n",
       "      <td>0.010957</td>\n",
       "      <td>0.898089</td>\n",
       "      <td>59.881143</td>\n",
       "      <td>1.0</td>\n",
       "      <td>0.010774</td>\n",
       "      <td>9.665333</td>\n",
       "      <td>0.995445</td>\n",
       "      <td>0.674641</td>\n",
       "      <td>0.896537</td>\n",
       "      <td>0.814330</td>\n",
       "    </tr>\n",
       "    <tr>\n",
       "      <th>277</th>\n",
       "      <td>(21086, 21080)</td>\n",
       "      <td>(21094)</td>\n",
       "      <td>0.011501</td>\n",
       "      <td>0.020476</td>\n",
       "      <td>0.010296</td>\n",
       "      <td>0.895270</td>\n",
       "      <td>43.722146</td>\n",
       "      <td>1.0</td>\n",
       "      <td>0.010061</td>\n",
       "      <td>9.352871</td>\n",
       "      <td>0.988497</td>\n",
       "      <td>0.474910</td>\n",
       "      <td>0.893081</td>\n",
       "      <td>0.699058</td>\n",
       "    </tr>\n",
       "    <tr>\n",
       "      <th>341</th>\n",
       "      <td>(22699, 22698)</td>\n",
       "      <td>(22697)</td>\n",
       "      <td>0.023857</td>\n",
       "      <td>0.041069</td>\n",
       "      <td>0.021331</td>\n",
       "      <td>0.894137</td>\n",
       "      <td>21.771428</td>\n",
       "      <td>1.0</td>\n",
       "      <td>0.020351</td>\n",
       "      <td>9.058207</td>\n",
       "      <td>0.977385</td>\n",
       "      <td>0.489305</td>\n",
       "      <td>0.889603</td>\n",
       "      <td>0.706766</td>\n",
       "    </tr>\n",
       "    <tr>\n",
       "      <th>380</th>\n",
       "      <td>(22697, 22698, 22423)</td>\n",
       "      <td>(22699)</td>\n",
       "      <td>0.013444</td>\n",
       "      <td>0.043517</td>\n",
       "      <td>0.011773</td>\n",
       "      <td>0.875723</td>\n",
       "      <td>20.123635</td>\n",
       "      <td>1.0</td>\n",
       "      <td>0.011188</td>\n",
       "      <td>7.696351</td>\n",
       "      <td>0.963257</td>\n",
       "      <td>0.260533</td>\n",
       "      <td>0.870068</td>\n",
       "      <td>0.573129</td>\n",
       "    </tr>\n",
       "    <tr>\n",
       "      <th>373</th>\n",
       "      <td>(22386, 22411, 21931)</td>\n",
       "      <td>(85099B)</td>\n",
       "      <td>0.012045</td>\n",
       "      <td>0.082955</td>\n",
       "      <td>0.010452</td>\n",
       "      <td>0.867742</td>\n",
       "      <td>10.460456</td>\n",
       "      <td>1.0</td>\n",
       "      <td>0.009453</td>\n",
       "      <td>6.933759</td>\n",
       "      <td>0.915428</td>\n",
       "      <td>0.123621</td>\n",
       "      <td>0.855778</td>\n",
       "      <td>0.496869</td>\n",
       "    </tr>\n",
       "    <tr>\n",
       "      <th>113</th>\n",
       "      <td>(23172)</td>\n",
       "      <td>(23170)</td>\n",
       "      <td>0.012200</td>\n",
       "      <td>0.017757</td>\n",
       "      <td>0.010568</td>\n",
       "      <td>0.866242</td>\n",
       "      <td>48.784401</td>\n",
       "      <td>1.0</td>\n",
       "      <td>0.010352</td>\n",
       "      <td>7.343439</td>\n",
       "      <td>0.991599</td>\n",
       "      <td>0.545090</td>\n",
       "      <td>0.863824</td>\n",
       "      <td>0.730714</td>\n",
       "    </tr>\n",
       "    <tr>\n",
       "      <th>332</th>\n",
       "      <td>(22698, 22423)</td>\n",
       "      <td>(22697)</td>\n",
       "      <td>0.015620</td>\n",
       "      <td>0.041069</td>\n",
       "      <td>0.013444</td>\n",
       "      <td>0.860697</td>\n",
       "      <td>20.957187</td>\n",
       "      <td>1.0</td>\n",
       "      <td>0.012802</td>\n",
       "      <td>6.883753</td>\n",
       "      <td>0.967394</td>\n",
       "      <td>0.310872</td>\n",
       "      <td>0.854730</td>\n",
       "      <td>0.594019</td>\n",
       "    </tr>\n",
       "  </tbody>\n",
       "</table>\n",
       "</div>"
      ],
      "text/plain": [
       "               antecedents consequents  antecedent support  \\\n",
       "348         (23172, 23170)     (23171)            0.010568   \n",
       "349         (23172, 23171)     (23170)            0.010957   \n",
       "381  (22699, 22698, 22423)     (22697)            0.013094   \n",
       "115                (23172)     (23171)            0.012200   \n",
       "277         (21086, 21080)     (21094)            0.011501   \n",
       "341         (22699, 22698)     (22697)            0.023857   \n",
       "380  (22697, 22698, 22423)     (22699)            0.013444   \n",
       "373  (22386, 22411, 21931)    (85099B)            0.012045   \n",
       "113                (23172)     (23170)            0.012200   \n",
       "332         (22698, 22423)     (22697)            0.015620   \n",
       "\n",
       "     consequent support   support  confidence       lift  representativity  \\\n",
       "348            0.014998  0.010024    0.948529  63.244304               1.0   \n",
       "349            0.017757  0.010024    0.914894  51.524326               1.0   \n",
       "381            0.041069  0.011773    0.899110  21.892515               1.0   \n",
       "115            0.014998  0.010957    0.898089  59.881143               1.0   \n",
       "277            0.020476  0.010296    0.895270  43.722146               1.0   \n",
       "341            0.041069  0.021331    0.894137  21.771428               1.0   \n",
       "380            0.043517  0.011773    0.875723  20.123635               1.0   \n",
       "373            0.082955  0.010452    0.867742  10.460456               1.0   \n",
       "113            0.017757  0.010568    0.866242  48.784401               1.0   \n",
       "332            0.041069  0.013444    0.860697  20.957187               1.0   \n",
       "\n",
       "     leverage  conviction  zhangs_metric   jaccard  certainty  kulczynski  \n",
       "348  0.009866   19.137184       0.994701  0.645000   0.947746    0.808462  \n",
       "349  0.009830   11.541361       0.991455  0.536383   0.913355    0.739723  \n",
       "381  0.011235    9.504696       0.966984  0.277727   0.894789    0.592885  \n",
       "115  0.010774    9.665333       0.995445  0.674641   0.896537    0.814330  \n",
       "277  0.010061    9.352871       0.988497  0.474910   0.893081    0.699058  \n",
       "341  0.020351    9.058207       0.977385  0.489305   0.889603    0.706766  \n",
       "380  0.011188    7.696351       0.963257  0.260533   0.870068    0.573129  \n",
       "373  0.009453    6.933759       0.915428  0.123621   0.855778    0.496869  \n",
       "113  0.010352    7.343439       0.991599  0.545090   0.863824    0.730714  \n",
       "332  0.012802    6.883753       0.967394  0.310872   0.854730    0.594019  "
      ]
     },
     "execution_count": 142,
     "metadata": {},
     "output_type": "execute_result"
    }
   ],
   "source": [
    "from mlxtend.frequent_patterns import association_rules\n",
    "\n",
    "# Generate association rules\n",
    "rules = association_rules(frequent_itemsets, metric=\"confidence\", min_threshold=0.5)\n",
    "\n",
    "# Display top 10 rules\n",
    "rules.sort_values(by=\"confidence\", ascending=False).head(10)"
   ]
  },
  {
   "cell_type": "markdown",
   "id": "91dc6dc0-a0b9-4d5b-9de8-4ab91017b56d",
   "metadata": {},
   "source": [
    "### I was able to generate association rule from the frequent_itemset define at minimum support of 0.01"
   ]
  },
  {
   "cell_type": "code",
   "execution_count": null,
   "id": "9b18182e-15e7-4445-a204-0e651707316b",
   "metadata": {},
   "outputs": [],
   "source": []
  },
  {
   "cell_type": "markdown",
   "id": "5c0d391f-4ad1-43d9-a640-8b709364b91e",
   "metadata": {},
   "source": [
    "### Step 4: Discuss the Importance of Choosing Confidence & Support and why it is not always beneficial to maximize one or both of them "
   ]
  },
  {
   "cell_type": "markdown",
   "id": "d2630f20-ab7a-4473-8b15-a8a9fc71b7a8",
   "metadata": {},
   "source": [
    "### Importance of Choosing Confidence and Support Values:\n",
    "\n",
    "Support:\n",
    "Definition: Support measures how frequently an itemset appears in the dataset.1 It's the proportion of transactions that contain the itemset.\n",
    "\n",
    "Importance:\n",
    "Helps identify frequent itemsets, which are the basis for generating association rules.\n",
    "Filters out itemsets that occur rarely, which might be due to chance or noise in the data.\n",
    "Ensures that the discovered rules are statistically significant and represent meaningful patterns in the data.\n",
    "\n",
    "Confidence:\n",
    "Definition: Confidence measures how often a rule is true. For the rule A -> B, it's the proportion of transactions containing A that also contain B.\n",
    "\n",
    "Importance:\n",
    "Indicates the reliability of a rule. A high confidence means that when A occurs, B is also likely to occur.\n",
    "Helps identify strong associations between items.\n",
    "    \n",
    "Why Maximizing Confidence and Support Is Not Always Beneficial:\n",
    "\n",
    "1.Overly Restrictive Rules:\n",
    "\n",
    "Maximizing support can lead to the discovery of only very common itemsets, which might be trivial or uninteresting.\n",
    "Maximizing confidence can lead to rules that are highly specific but apply to a very small number of transactions, making them less generalizable.\n",
    "\n",
    "2.Loss of Interesting Patterns:\n",
    "\n",
    "By focusing only on high-support itemsets, you might miss valuable insights about less frequent but potentially more actionable patterns.\n",
    "High-confidence rules might be based on very small sample sizes, making them unreliable.\n",
    "    \n",
    "3.Computational Complexity:\n",
    "\n",
    "Maximizing support can lead to a combinatorial explosion of itemsets, making the algorithm computationally expensive and time-consuming.\n",
    "Finding rules with extremely high confidence might require searching through a vast number of potential rules.\n",
    "\n",
    "4.Data Sparsity:\n",
    "\n",
    "In sparse datasets (like yours), maximizing support can lead to an empty frequent itemset, as you've experienced.\n",
    "High confidence in sparse data might be misleading, as it could be based on very few occurrences.\n",
    "\n",
    "5.Business Context:\n",
    "\n",
    "The optimal support and confidence values depend on the specific business problem and the characteristics of the data.\n",
    "A rule with moderate support and confidence might be more valuable if it aligns with business goals and provides actionable insights.\n",
    "\n",
    "Conclusion:\n",
    "\n",
    "The fact that I have an empty frequent itemset with a min_support of 0.15 is a perfect example of why maximizing support can be detrimental.\n",
    "It highlights the importance of choosing appropriate thresholds based on the dataset and the goals of the analysis."
   ]
  },
  {
   "cell_type": "code",
   "execution_count": null,
   "id": "8920489d-f091-43c7-8c0d-e689afc09a4a",
   "metadata": {},
   "outputs": [],
   "source": []
  },
  {
   "cell_type": "markdown",
   "id": "4d560d63-4ccb-4a3b-bc1c-d18c528a4b96",
   "metadata": {},
   "source": [
    "### Step 5: Display & Interpret the Top 10 Rules"
   ]
  },
  {
   "cell_type": "code",
   "execution_count": 157,
   "id": "a31c1407-bceb-4cc5-ac8b-bb0f6026871b",
   "metadata": {},
   "outputs": [
    {
     "name": "stdout",
     "output_type": "stream",
     "text": [
      "               antecedents consequents   support  confidence       lift\n",
      "348         (23172, 23170)     (23171)  0.010024    0.948529  63.244304\n",
      "349         (23172, 23171)     (23170)  0.010024    0.914894  51.524326\n",
      "381  (22699, 22698, 22423)     (22697)  0.011773    0.899110  21.892515\n",
      "115                (23172)     (23171)  0.010957    0.898089  59.881143\n",
      "277         (21086, 21080)     (21094)  0.010296    0.895270  43.722146\n",
      "341         (22699, 22698)     (22697)  0.021331    0.894137  21.771428\n",
      "380  (22697, 22698, 22423)     (22699)  0.011773    0.875723  20.123635\n",
      "373  (22386, 22411, 21931)    (85099B)  0.010452    0.867742  10.460456\n",
      "113                (23172)     (23170)  0.010568    0.866242  48.784401\n",
      "332         (22698, 22423)     (22697)  0.013444    0.860697  20.957187\n"
     ]
    }
   ],
   "source": [
    "# Select and display top 10 rules based on confidence\n",
    "top_rules = rules.sort_values(by=[\"confidence\"], ascending=False).head(10)\n",
    "print(top_rules[[\"antecedents\", \"consequents\", \"support\", \"confidence\", \"lift\"]])\n"
   ]
  },
  {
   "cell_type": "code",
   "execution_count": null,
   "id": "e5787943-4581-42bd-94e5-98ab5bed81e0",
   "metadata": {},
   "outputs": [],
   "source": []
  },
  {
   "cell_type": "markdown",
   "id": "9ac1da16-c07f-4e04-a8d5-15ad372e7867",
   "metadata": {},
   "source": [
    "### Understanding the Columns:\n",
    "\n",
    "antecedents: The items that are present in the \"if\" part of the rule.\n",
    "consequents: The items that are present in the \"then\" part of the rule.\n",
    "support: The proportion of transactions that contain both the antecedents and the consequents.\n",
    "confidence: The proportion of transactions containing the antecedents that also contain the consequents.\n",
    "lift: A measure of how much more likely the consequents are to be purchased when the antecedents are purchased, compared to their general popularity.\n",
    "\n",
    "Interpretation of the Top 10 Rules:\n",
    "\n",
    "1.Rule 348:\n",
    "\n",
    "Antecedents: (23172, 23170)\n",
    "Consequents: (23171)\n",
    "Support: 0.010024 (1.0024% of transactions)\n",
    "Confidence: 0.948529 (94.85% of transactions with (23172, 23170) also have (23171))\n",
    "Lift: 63.244304 (63.24 times more likely to have (23171) when (23172, 23170) are present)\n",
    "Interpretation: This rule shows a very strong association. When items 23172 and 23170 are purchased together, item 23171 is almost always purchased as well. This is a highly reliable rule.\n",
    "\n",
    "2.Rule 349:\n",
    "\n",
    "Antecedents: (23172, 23171)\n",
    "Consequents: (23170)\n",
    "Support: 0.010024\n",
    "Confidence: 0.914894\n",
    "Lift: 51.524326\n",
    "Interpretation: Similar to Rule 348, this rule indicates a strong association. When items 23172 and 23171 are purchased together, item 23170 is also very likely to be purchased.\n",
    "\n",
    "3.Rule 381:\n",
    "\n",
    "Antecedents: (22699, 22698, 22423)\n",
    "Consequents: (22697)\n",
    "Support: 0.011773\n",
    "Confidence: 0.899110\n",
    "Lift: 21.892515\n",
    "Interpretation: This rule indicates that when these three items are purchased together, item 22697 is highly likely to be purchased. The lift is still high, suggesting a strong positive association.\n",
    "\n",
    "4.Rule 115:\n",
    "\n",
    "Antecedents: (23172)\n",
    "Consequents: (23171)\n",
    "Support: 0.010957\n",
    "Confidence: 0.898089\n",
    "Lift: 59.881143\n",
    "Interpretation: This rule highlights that item 23171 is very likely to be purchased when item 23172 is present, even without the presence of item 23170.\n",
    "\n",
    "5.Rule 277:\n",
    "\n",
    "Antecedents: (21086, 21080)\n",
    "Consequents: (21094)\n",
    "Support: 0.010296\n",
    "Confidence: 0.895270\n",
    "Lift: 43.722146\n",
    "Interpretation: This rule shows a strong association between these three items, similar to the previous rules.\n",
    "\n",
    "6.Rule 341:\n",
    "\n",
    "Antecedents: (22699, 22698)\n",
    "Consequents: (22697)\n",
    "Support: 0.021331\n",
    "Confidence: 0.894137\n",
    "Lift: 21.771428\n",
    "Interpretation: This rule is similar to Rule 381 but with fewer antecedents. The support is higher, indicating that this combination is more frequent.\n",
    "\n",
    "7.Rule 380:\n",
    "\n",
    "Antecedents: (22698, 22423)\n",
    "Consequents: (22699)\n",
    "Support: 0.011773\n",
    "Confidence: 0.875723\n",
    "Lift: 20.123635\n",
    "Interpretation: This rule is related to Rule 381 and 341, highlighting the association between these four items.\n",
    "\n",
    "8.Rule 373:\n",
    "\n",
    "Antecedents: (22386, 22411, 21931)\n",
    "Consequents: (85099B)\n",
    "Support: 0.010452\n",
    "Confidence: 0.867742\n",
    "Lift: 10.460456\n",
    "Interpretation: This rule indicates that when these three items are purchased together, item 85099B is also likely to be purchased. The lift is lower than the previous rules but still indicates a positive association.\n",
    "\n",
    "9.Rule 113:\n",
    "\n",
    "Antecedents: (23172)\n",
    "Consequents: (23170)\n",
    "Support: 0.010568\n",
    "Confidence: 0.866242\n",
    "Lift: 48.784401\n",
    "Interpretation: This rule is similar to Rule 115, highlighting the strong association between these two items.\n",
    "\n",
    "10.Rule 332:\n",
    "\n",
    "Antecedents: (22698, 22423)\n",
    "Consequents: (22697)\n",
    "Support: 0.013444\n",
    "Confidence: 0.860697\n",
    "Lift: 20.957187\n",
    "Interpretation: This rule is similar to Rule 380, highlighting the association between these three items.\n",
    "\n",
    "Key Takeaways:\n",
    "\n",
    "Strong Associations: The rules show strong associations, with high confidence and lift values, indicating that certain items are frequently purchased together.\n",
    "\n",
    "Item 23172: Item 23172 appears in multiple high-confidence rules, suggesting it's a key item in these associations.\n",
    "\n",
    "Item Grouping: Items 22697, 22698, 22423, and 22699 appear together in multiple rules, suggesting they might be part of a related group or category.\n",
    "\n",
    "Low Support: The support values are relatively low, indicating that these itemsets are not very frequent. However, the high confidence and lift values suggest that these associations are still valuable.\n",
    "\n",
    "*Business Implications:\n",
    "\n",
    "Product Bundling: Consider bundling or promoting these items together to increase sales.\n",
    "Placement: Place these items near each other in the store or on the website to encourage cross-selling.\n",
    "\n",
    "Targeted Promotions: Develop targeted promotions for customers who purchase the antecedents to encourage them to also purchase the consequents.\n",
    "\n",
    "*Further Analysis:\n",
    "\n",
    "Item Descriptions: To gain a deeper understanding, I will look up the descriptions of the item codes to understand what the items are.\n",
    "Visualizations: I will Create visualizations to better understand the relationships between the items."
   ]
  },
  {
   "cell_type": "code",
   "execution_count": null,
   "id": "78f076b2-c660-4fb5-a0cd-a6c3ea122ff9",
   "metadata": {},
   "outputs": [],
   "source": []
  },
  {
   "cell_type": "markdown",
   "id": "d1c3d754-7ee3-49c6-8139-81651dd96f62",
   "metadata": {},
   "source": [
    "### Step 6: Visualize the Most Frequent Itemsets"
   ]
  },
  {
   "cell_type": "code",
   "execution_count": 162,
   "id": "1e219388-f5ac-4646-8d17-4d2cc75966ad",
   "metadata": {},
   "outputs": [
    {
     "data": {
      "image/png": "[encoded data removed]",
      "text/plain": [
       "<Figure size 800x500 with 1 Axes>"
      ]
     },
     "metadata": {},
     "output_type": "display_data"
    }
   ],
   "source": [
    "import matplotlib.pyplot as plt\n",
    "import seaborn as sns\n",
    "\n",
    "# Plot top 10 frequent itemsets\n",
    "plt.figure(figsize=(8, 5))\n",
    "sns.barplot(x=frequent_itemsets.support.head(10), y=frequent_itemsets.itemsets.head(10).astype(str))\n",
    "plt.xlabel(\"Support\")\n",
    "plt.ylabel(\"Itemsets\")\n",
    "plt.title(\"Top 10 Frequent Itemsets\")\n",
    "plt.show()\n"
   ]
  },
  {
   "cell_type": "markdown",
   "id": "92cfc42f-0fa2-4878-a970-48e62b34195b",
   "metadata": {},
   "source": [
    "### INSIGHT\n",
    "This chart shows the top 10 most frequent items purchased, with item '20685' being the most popular.  \n",
    "The data suggests that even the most frequent items are only purchased in a small percentage of transactions.  \n",
    "It's likely that these items are part of a product line or category due to the similarities in their item codes.  \n",
    "Further analysis could explore bundling these items or running targeted promotions to increase sales"
   ]
  },
  {
   "cell_type": "code",
   "execution_count": null,
   "id": "dd8f82b9-c2a5-48f8-982c-772d53357b1a",
   "metadata": {},
   "outputs": [],
   "source": []
  },
  {
   "cell_type": "markdown",
   "id": "d06efa8a-9f4a-461d-8ade-e57149f67b71",
   "metadata": {},
   "source": [
    "### Step 7: Business Application of Association Rules\n",
    "Association rules, derived from techniques like Apriori, provide invaluable insights into customer behavior and product relationships, driving informed business decisions across various domains. Let's illustrate with a refined example:\n",
    "\n",
    "Scenario: An online retailer analyzes purchase data and discovers the following rule:\n",
    "\n",
    "antecedents: {Gaming Console} -> consequents: {Gaming Headset, Extended Warranty}\n",
    "support: 0.02\n",
    "confidence: 0.65\n",
    "lift: 2.5\n",
    "\n",
    "Interpretation:\n",
    "\n",
    "* 2% of transactions include a gaming console, gaming headset, and extended warranty.\n",
    "* 65% of customers who purchase a gaming console also buy a gaming headset and extended warranty.\n",
    "* Customers buying a gaming console are 2.5 times more likely to purchase a headset and warranty than the average customer.\n",
    "\n",
    "Business Decisions:\n",
    "\n",
    "1. Bundling & Promotions:\n",
    "\n",
    "Offer a \"Gamer Bundle\" with console, headset, and warranty at a discounted price, incentivizing the purchase of all three items.\n",
    "Run targeted promotions for customers who purchase a console, offering discounts on headsets and warranties.\n",
    "\n",
    "2. Product Recommendations:\n",
    "\n",
    "* Implement a recommendation engine that suggests gaming headsets and extended warranties to customers browsing or purchasing gaming consoles.\n",
    "* Personalize recommendations based on customer segments (e.g., casual vs. hardcore gamers).\n",
    "\n",
    "3.Inventory Management:\n",
    "\n",
    "Forecast demand for headsets and warranties based on console sales trends.\n",
    "Optimize inventory levels to ensure sufficient stock of associated items.\n",
    "\n",
    "4.Customer Segmentation & Targeting:\n",
    "\n",
    "* Identify customer segments who frequently purchase gaming consoles and associated items.\n",
    "* Tailor marketing campaigns and loyalty programs to these segments.\n",
    "\n",
    "5.Pricing Strategies:\n",
    "\n",
    "Analyze price sensitivity for consoles, headsets, and warranties within different customer segments.\n",
    "Adjust pricing and promotions to maximize profitability.\n",
    "\n",
    "Critical Considerations:\n",
    "\n",
    "* Causality vs. Correlation: While the rule shows a strong association, it doesn't necessarily mean buying a console causes customers to buy a headset and warranty. Other factors, such as gaming preferences or marketing influences, could be at play.\n",
    "\n",
    "* External Factors: Consider seasonality (e.g., holiday sales), competitor promotions, or new game releases that might influence the association.\n",
    "\n",
    "* Data Quality: Ensure data accuracy and completeness to avoid misleading rules.\n",
    "\n",
    "Conclusion:\n",
    "\n",
    "By thoughtfully interpreting association rules and considering the nuances of the business context, retailers can make data-driven decisions to improve sales, customer satisfaction, and operational efficiency."
   ]
  },
  {
   "cell_type": "code",
   "execution_count": null,
   "id": "3c234e2a-8baf-4fec-aa39-2350cfd45e46",
   "metadata": {},
   "outputs": [],
   "source": []
  }
 ],
 "metadata": {
  "kernelspec": {
   "display_name": "Python 3 (ipykernel)",
   "language": "python",
   "name": "python3"
  },
  "language_info": {
   "codemirror_mode": {
    "name": "ipython",
    "version": 3
   },
   "file_extension": ".py",
   "mimetype": "text/x-python",
   "name": "python",
   "nbconvert_exporter": "python",
   "pygments_lexer": "ipython3",
   "version": "3.12.4"
  }
 },
 "nbformat": 4,
 "nbformat_minor": 5
}
